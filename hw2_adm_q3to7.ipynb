{
  "cells": [
    {
      "cell_type": "code",
      "execution_count": null,
      "metadata": {
        "id": "ypXG24fhA6OJ"
      },
      "outputs": [],
      "source": [
        "import pandas as pd"
      ]
    },
    {
      "cell_type": "code",
      "execution_count": null,
      "metadata": {
        "colab": {
          "base_uri": "https://localhost:8080/"
        },
        "id": "WqqRcTOkAIrF",
        "outputId": "73bb656f-22ed-47da-930e-454b44c6c534"
      },
      "outputs": [
        {
          "name": "stdout",
          "output_type": "stream",
          "text": [
            "--2023-10-29 11:57:24--  https://sapienza2023adm.s3.eu-south-1.amazonaws.com/lighter_authors.json\n",
            "Resolving sapienza2023adm.s3.eu-south-1.amazonaws.com (sapienza2023adm.s3.eu-south-1.amazonaws.com)... 52.95.151.8, 52.95.151.30\n",
            "Connecting to sapienza2023adm.s3.eu-south-1.amazonaws.com (sapienza2023adm.s3.eu-south-1.amazonaws.com)|52.95.151.8|:443... connected.\n",
            "HTTP request sent, awaiting response... 200 OK\n",
            "Length: 549013002 (524M) [application/json]\n",
            "Saving to: ‘/content/drive/MyDrive/LaMiaCartellaDataset/lighter_authors.json’\n",
            "\n",
            "lighter_authors.jso 100%[===================>] 523.58M  30.6MB/s    in 18s     \n",
            "\n",
            "2023-10-29 11:57:43 (28.3 MB/s) - ‘/content/drive/MyDrive/LaMiaCartellaDataset/lighter_authors.json’ saved [549013002/549013002]\n",
            "\n"
          ]
        }
      ],
      "source": [
        "!wget -P /content/drive/MyDrive/LaMiaCartellaDataset https://sapienza2023adm.s3.eu-south-1.amazonaws.com/lighter_authors.json"
      ]
    },
    {
      "cell_type": "code",
      "execution_count": null,
      "metadata": {
        "id": "NWKdMmZRApyT"
      },
      "outputs": [],
      "source": [
        "filename0 = \"/content/drive/MyDrive/LaMiaCartellaDataset/lighter_authors.json\""
      ]
    },
    {
      "cell_type": "code",
      "execution_count": null,
      "metadata": {
        "id": "-JIvXgxUEyLp"
      },
      "outputs": [],
      "source": [
        "# Read the data\n",
        "df_chunks = pd.read_json(filename0, lines=True, dtype={'ratings_count': 'int32', 'text_reviews_count':'int32', 'works_count':'int32', 'id':'int32', 'fans_count':'int32', 'name':'string', 'gender':'string', 'image_url':'string', 'average_rating':'float16', 'about':'string'}, chunksize=10000)\n",
        "#E' UN ITERATORE CHE MI LEGGE I DATI A BLOCCHI\n",
        "\n",
        "# Create an empty DataFrame to store the results\n",
        "df = pd.DataFrame()\n",
        "\n",
        "# Loop through each chunk and append it to the result DataFrame\n",
        "for chunk in df_chunks:\n",
        "    df = pd.concat([df, chunk], ignore_index=True)"
      ]
    },
    {
      "cell_type": "code",
      "execution_count": null,
      "metadata": {
        "colab": {
          "base_uri": "https://localhost:8080/"
        },
        "id": "oSm9IKjhEyRE",
        "outputId": "3b71a2f0-f790-4376-9acf-4405af0b5af7"
      },
      "outputs": [
        {
          "data": {
            "text/plain": [
              "Index(['ratings_count', 'average_rating', 'text_reviews_count', 'work_ids',\n",
              "       'book_ids', 'works_count', 'id', 'name', 'gender', 'image_url', 'about',\n",
              "       'fans_count'],\n",
              "      dtype='object')"
            ]
          },
          "execution_count": 7,
          "metadata": {},
          "output_type": "execute_result"
        }
      ],
      "source": [
        "df.columns"
      ]
    },
    {
      "cell_type": "code",
      "execution_count": null,
      "metadata": {
        "colab": {
          "base_uri": "https://localhost:8080/"
        },
        "id": "4zH0NNO8EyTc",
        "outputId": "a743bc11-cf91-4e94-a05e-7ef67e08cdf8"
      },
      "outputs": [
        {
          "name": "stdout",
          "output_type": "stream",
          "text": [
            "<class 'pandas.core.frame.DataFrame'>\n",
            "RangeIndex: 351767 entries, 0 to 351766\n",
            "Data columns (total 12 columns):\n",
            " #   Column              Non-Null Count   Dtype  \n",
            "---  ------              --------------   -----  \n",
            " 0   ratings_count       351767 non-null  int32  \n",
            " 1   average_rating      351767 non-null  float16\n",
            " 2   text_reviews_count  351767 non-null  int32  \n",
            " 3   work_ids            351767 non-null  object \n",
            " 4   book_ids            351767 non-null  object \n",
            " 5   works_count         351767 non-null  int32  \n",
            " 6   id                  351767 non-null  int32  \n",
            " 7   name                351767 non-null  string \n",
            " 8   gender              351767 non-null  string \n",
            " 9   image_url           351767 non-null  string \n",
            " 10  about               351767 non-null  string \n",
            " 11  fans_count          351767 non-null  int32  \n",
            "dtypes: float16(1), int32(5), object(2), string(4)\n",
            "memory usage: 23.5+ MB\n"
          ]
        }
      ],
      "source": [
        "df.info() #35mila x 12"
      ]
    },
    {
      "cell_type": "code",
      "execution_count": null,
      "metadata": {
        "colab": {
          "base_uri": "https://localhost:8080/"
        },
        "id": "60sFs3XBFZA2",
        "outputId": "ffb64cff-f21f-49ec-8be2-c988f3d5983f"
      },
      "outputs": [
        {
          "output_type": "stream",
          "name": "stdout",
          "text": [
            "--2023-10-30 18:21:45--  https://sapienza2023adm.s3.eu-south-1.amazonaws.com/lighter_books.json\n",
            "Resolving sapienza2023adm.s3.eu-south-1.amazonaws.com (sapienza2023adm.s3.eu-south-1.amazonaws.com)... 52.95.152.46, 52.95.153.30\n",
            "Connecting to sapienza2023adm.s3.eu-south-1.amazonaws.com (sapienza2023adm.s3.eu-south-1.amazonaws.com)|52.95.152.46|:443... connected.\n",
            "HTTP request sent, awaiting response... 200 OK\n",
            "Length: 16123393395 (15G) [application/json]\n",
            "Saving to: ‘/content/drive/MyDrive/LaMiaCartellaDataset/lighter_books.json’\n",
            "\n",
            "lighter_books.json  100%[===================>]  15.02G  24.0MB/s    in 13m 7s  \n",
            "\n",
            "2023-10-30 18:34:54 (19.5 MB/s) - ‘/content/drive/MyDrive/LaMiaCartellaDataset/lighter_books.json’ saved [16123393395/16123393395]\n",
            "\n"
          ]
        }
      ],
      "source": [
        "!wget -P /content/drive/MyDrive/LaMiaCartellaDataset https://sapienza2023adm.s3.eu-south-1.amazonaws.com/lighter_books.json"
      ]
    },
    {
      "cell_type": "code",
      "execution_count": null,
      "metadata": {
        "id": "qKmQcUzfmgoE"
      },
      "outputs": [],
      "source": [
        "filename1 = \"/content/drive/MyDrive/LaMiaCartellaDataset/lighter_books.json\"\n",
        "import pandas as pd"
      ]
    },
    {
      "cell_type": "code",
      "execution_count": null,
      "metadata": {
        "colab": {
          "base_uri": "https://localhost:8080/"
        },
        "id": "PLyFZ0i8EyW-",
        "outputId": "e12556c4-0545-45e2-f885-0575cc643e5b"
      },
      "outputs": [
        {
          "output_type": "stream",
          "name": "stdout",
          "text": [
            "Index(['id', 'title', 'authors', 'author_name', 'author_id', 'work_id', 'isbn',\n",
            "       'isbn13', 'asin', 'language', 'average_rating', 'rating_dist',\n",
            "       'ratings_count', 'text_reviews_count', 'publication_date',\n",
            "       'original_publication_date', 'format', 'edition_information',\n",
            "       'image_url', 'publisher', 'num_pages', 'series_id', 'series_name',\n",
            "       'series_position', 'shelves', 'description'],\n",
            "      dtype='object')\n"
          ]
        }
      ],
      "source": [
        "d = pd.read_json(filename1, lines=True, nrows=10)\n",
        "print(d.columns)"
      ]
    },
    {
      "cell_type": "code",
      "execution_count": null,
      "metadata": {
        "id": "QqOki_w9EyOQ"
      },
      "outputs": [],
      "source": [
        "# Read the data\n",
        "df_chunks = pd.read_json(filename1, lines=True, chunksize=200000)\n",
        "\n",
        "# Create an empty DataFrame to store the results\n",
        "df1 = pd.DataFrame()\n",
        "\n",
        "# Loop through each chunk and append it to the result DataFrame\n",
        "for chunk in df_chunks:\n",
        "  chunk = chunk[['id', 'title', 'original_publication_date', 'num_pages', 'series_id',\n",
        "                 'series_name', 'author_name', 'author_id', 'average_rating', 'format',\n",
        "                 'rating_dist', 'ratings_count', 'text_reviews_count']]\n",
        "  df1 = pd.concat([df1, chunk], ignore_index=True) #7027431"
      ]
    },
    {
      "cell_type": "code",
      "execution_count": null,
      "metadata": {
        "colab": {
          "base_uri": "https://localhost:8080/"
        },
        "id": "kX0dKqcPV0B1",
        "outputId": "696bef04-71de-475a-aacd-1ae358b97a19"
      },
      "outputs": [
        {
          "data": {
            "text/plain": [
              "0    5:1674064|4:664833|3:231195|2:41699|1:16215|to...\n",
              "1    5:4801606|4:1681521|3:623286|2:145898|1:125040...\n",
              "2    5:1690166|4:781011|3:313727|2:54687|1:15453|to...\n",
              "3    5:1994597|4:696545|3:212678|2:28915|1:13959|to...\n",
              "4    5:1808039|4:663849|3:193604|2:27759|1:12425|to...\n",
              "5        5:25063|4:4467|3:1103|2:227|1:282|total:31142\n",
              "6        5:49438|4:6112|3:1525|2:354|1:534|total:57963\n",
              "7        5:25063|4:4467|3:1103|2:227|1:282|total:31142\n",
              "8    5:753962|4:436665|3:206876|2:60681|1:32955|tot...\n",
              "9    5:167705|4:81013|3:32283|2:8665|1:4360|total:2...\n",
              "Name: rating_dist, dtype: object"
            ]
          },
          "execution_count": 11,
          "metadata": {},
          "output_type": "execute_result"
        }
      ],
      "source": [
        "df1['rating_dist'][:10]\n",
        "df1['rating_dist'][:10]"
      ]
    },
    {
      "cell_type": "code",
      "execution_count": null,
      "metadata": {
        "id": "xQ7qx1EMFeAp"
      },
      "outputs": [],
      "source": [
        "from google.colab import drive\n",
        "drive.mount('/content/drive')"
      ]
    },
    {
      "cell_type": "code",
      "execution_count": null,
      "metadata": {
        "id": "AW1QnL97CP5O"
      },
      "outputs": [],
      "source": [
        "#We create two different lists, date with the entire original publication date in tuples, and date_y with just the year.\n",
        "#The problem is that for some books the month is missing.\n",
        "date = []\n",
        "date_y=[]\n",
        "date_m=[]\n",
        "for i in df1['original_publication_date']:\n",
        "  dd=tuple(i.split('-'))\n",
        "  date.append(dd)\n",
        "  date_y.append(i.split('-')[0])\n",
        "\n",
        "  #Some books don't have the specified month of publication date, but just the year.\n",
        "  #So we create a list for the months and when it is not specified we insert 0.\n",
        "  if len(i.split('-'))>1:\n",
        "    date_m.append(i.split('-')[1])\n",
        "  else:\n",
        "    date_m.append(0)\n",
        "\n",
        "date_y = ['0' if i=='' else i for i in date_y]\n",
        "date_y = [int(i) for i in date_y]\n",
        "date_m = [int(i) for i in date_m]\n",
        "\n",
        "#We add the column with the years and the months\n",
        "df1['publication_year']=date_y\n",
        "df1['publication_month']=date_m\n",
        "#print((df1['publication_year']==0).sum())"
      ]
    },
    {
      "cell_type": "code",
      "execution_count": null,
      "metadata": {
        "id": "XVGqyqs9kkuu"
      },
      "outputs": [],
      "source": [
        "#PUNTO 3\n",
        "import pandas as pd\n",
        "from statistics import mode\n",
        "\n",
        "def info_year(year):\n",
        "  books = df1[df1['publication_year']==year]\n",
        "\n",
        "  #The number of books published that year:\n",
        "  published_b = len(books.index)\n",
        "\n",
        "  #The total number of pages written that year:\n",
        "  books['num_pages']= books['num_pages'].replace('', '0')\n",
        "  books['num_pages']= books['num_pages'].astype(int)\n",
        "  num_pages = books['num_pages'].sum()\n",
        "\n",
        "  #The most prolific month of that year:\n",
        "  months = books['publication_month']\n",
        "  months_small = []\n",
        "  for i in months: #Eliminating the 0 that are the unspecified months\n",
        "    while i!=0:\n",
        "      months_small.append(i)\n",
        "      break\n",
        "  if months_small:\n",
        "    frequent_month = mode(months_small)\n",
        "  else: #In the case this list is empty, it means that the months were all 0 (not specified)\n",
        "    frequent_month =\"There isn't enough information to find the most prolific month of this year\"\n",
        "\n",
        "  #The longest book written that year:\n",
        "  index_max = books['num_pages'].idxmax() #Estracting the index of the maximum\n",
        "  longest_b = books.loc[index_max, 'title']\n",
        "\n",
        "\n",
        "  return(published_b, num_pages, frequent_month, longest_b)\n",
        "\n",
        "#res=info_year(2003) #FUNZIONA però da SettingWithCopyWarning\n",
        "#print(\"Le info dell'anno 2003 sono: \", res)\n"
      ]
    },
    {
      "cell_type": "code",
      "execution_count": null,
      "metadata": {
        "colab": {
          "base_uri": "https://localhost:8080/"
        },
        "id": "Yi4fZgUXqwqt",
        "outputId": "69346499-1fd6-4bd0-8683-c000d6ddca76"
      },
      "outputs": [
        {
          "name": "stderr",
          "output_type": "stream",
          "text": [
            "<ipython-input-43-f7badb96595c>:12: SettingWithCopyWarning: \n",
            "A value is trying to be set on a copy of a slice from a DataFrame.\n",
            "Try using .loc[row_indexer,col_indexer] = value instead\n",
            "\n",
            "See the caveats in the documentation: https://pandas.pydata.org/pandas-docs/stable/user_guide/indexing.html#returning-a-view-versus-a-copy\n",
            "  books['num_pages']= books['num_pages'].replace('', '0')\n",
            "<ipython-input-43-f7badb96595c>:13: SettingWithCopyWarning: \n",
            "A value is trying to be set on a copy of a slice from a DataFrame.\n",
            "Try using .loc[row_indexer,col_indexer] = value instead\n",
            "\n",
            "See the caveats in the documentation: https://pandas.pydata.org/pandas-docs/stable/user_guide/indexing.html#returning-a-view-versus-a-copy\n",
            "  books['num_pages']= books['num_pages'].astype(int)\n"
          ]
        },
        {
          "name": "stdout",
          "output_type": "stream",
          "text": [
            "First ten years registered:\n",
            "   years  published_book   num_pages frequent_month  \\\n",
            "0   2003          146590    24187956              1   \n",
            "1   1997          100289  2166944120              1   \n",
            "2   1998          107045    18121729              1   \n",
            "3   1999          114031    19759525              1   \n",
            "4   2000          126668  2168781641              1   \n",
            "5   2005          169033    27633904              1   \n",
            "6   1979           32522     5351513              1   \n",
            "7   1996           92695    15808512              1   \n",
            "8   2002          133797    22688262              1   \n",
            "9   1984           43562     7124459              1   \n",
            "\n",
            "                                        longest_book  \n",
            "0  21st Century Complete Guide To The National Se...  \n",
            "1                                  שלושה סיפורי אהבה  \n",
            "2                                         Prealgebra  \n",
            "3  Theological and Miscellaneous Works of Joseph ...  \n",
            "4                                     Dentes Brancos  \n",
            "5  A Practical Guide to Linux Commands, Editors, ...  \n",
            "6                     Gordana kraljica Hrvata (1-12)  \n",
            "7     The Persian Encyclopedia (دايرة المعارف فارسى)  \n",
            "8  21st Century Complete Guide to the Gulf War, O...  \n",
            "9                             تفسير التحرير والتنوير  \n",
            "\n",
            "Last ten years registered:\n",
            "      years  published_book  num_pages  \\\n",
            "1211    367               1        482   \n",
            "1212    317               1       1996   \n",
            "1213    190               2        204   \n",
            "1214    761               2         64   \n",
            "1215   1015               3         91   \n",
            "1216   1323               1        570   \n",
            "1217    327               1          0   \n",
            "1218    954               1         75   \n",
            "1219   1436               1          0   \n",
            "1220   1458               1         26   \n",
            "\n",
            "                                         frequent_month  \\\n",
            "1211  There isn't enough information to find the mos...   \n",
            "1212                                                  1   \n",
            "1213                                                  1   \n",
            "1214  There isn't enough information to find the mos...   \n",
            "1215                                                  3   \n",
            "1216                                                  1   \n",
            "1217  There isn't enough information to find the mos...   \n",
            "1218  There isn't enough information to find the mos...   \n",
            "1219                                                  1   \n",
            "1220  There isn't enough information to find the mos...   \n",
            "\n",
            "                                         longest_book  \n",
            "1211                                   Noul Testament  \n",
            "1212  De Ulisses a Viriato : o primeiro milénio a. C.  \n",
            "1213        Vägen till San Carlos (Apache-serien, #5)  \n",
            "1214                         Three Tang Dynasty Poets  \n",
            "1215                                            Ossos  \n",
            "1216            مكايد الرجال و مادموازل وسيمه فرانسوي  \n",
            "1217                      Die schönsten Erzählungen 2  \n",
            "1218                              Det mellanmänskliga  \n",
            "1219                                           ومحياي  \n",
            "1220                           Heidelberger Totentanz  \n"
          ]
        }
      ],
      "source": [
        "from numpy import NaN\n",
        "#Use this function to build your data frame: the primary key will be a year,\n",
        "#and the required information will be the attributes within the row.\n",
        "#Finally, show the head and the tail of this new data frame considering the\n",
        "#first ten years registered and the last ten years.\n",
        "\n",
        "years = df1['publication_year'].unique() #years is the primary key\n",
        "list_years = []\n",
        "for i in years:\n",
        "  if i!=0 and i<2024:\n",
        "    info = info_year(i)\n",
        "    list_years.append([i] + list(info))\n",
        "\n",
        "df_years = pd.DataFrame(list_years, columns = ['years', 'published_book', 'num_pages', 'frequent_month', 'longest_book'])\n",
        "print('First ten years registered:')\n",
        "print(df_years.head(10))\n",
        "print('\\nLast ten years registered:')\n",
        "print(df_years.tail(10))\n",
        "\n",
        "#OK VA BENE"
      ]
    },
    {
      "cell_type": "code",
      "execution_count": null,
      "metadata": {
        "colab": {
          "base_uri": "https://localhost:8080/"
        },
        "id": "VoOOAVcZqjxP",
        "outputId": "288a334a-98ce-43d6-fc13-8506aacf27a7"
      },
      "outputs": [
        {
          "name": "stderr",
          "output_type": "stream",
          "text": [
            "<ipython-input-38-9559388ad2f7>:16: SettingWithCopyWarning: \n",
            "A value is trying to be set on a copy of a slice from a DataFrame.\n",
            "Try using .loc[row_indexer,col_indexer] = value instead\n",
            "\n",
            "See the caveats in the documentation: https://pandas.pydata.org/pandas-docs/stable/user_guide/indexing.html#returning-a-view-versus-a-copy\n",
            "  select_books['num_pages'] = pd.to_numeric(select_books['num_pages'], errors='coerce')\n",
            "<ipython-input-38-9559388ad2f7>:16: SettingWithCopyWarning: \n",
            "A value is trying to be set on a copy of a slice from a DataFrame.\n",
            "Try using .loc[row_indexer,col_indexer] = value instead\n",
            "\n",
            "See the caveats in the documentation: https://pandas.pydata.org/pandas-docs/stable/user_guide/indexing.html#returning-a-view-versus-a-copy\n",
            "  select_books['num_pages'] = pd.to_numeric(select_books['num_pages'], errors='coerce')\n",
            "<ipython-input-38-9559388ad2f7>:16: SettingWithCopyWarning: \n",
            "A value is trying to be set on a copy of a slice from a DataFrame.\n",
            "Try using .loc[row_indexer,col_indexer] = value instead\n",
            "\n",
            "See the caveats in the documentation: https://pandas.pydata.org/pandas-docs/stable/user_guide/indexing.html#returning-a-view-versus-a-copy\n",
            "  select_books['num_pages'] = pd.to_numeric(select_books['num_pages'], errors='coerce')\n",
            "<ipython-input-38-9559388ad2f7>:16: SettingWithCopyWarning: \n",
            "A value is trying to be set on a copy of a slice from a DataFrame.\n",
            "Try using .loc[row_indexer,col_indexer] = value instead\n",
            "\n",
            "See the caveats in the documentation: https://pandas.pydata.org/pandas-docs/stable/user_guide/indexing.html#returning-a-view-versus-a-copy\n",
            "  select_books['num_pages'] = pd.to_numeric(select_books['num_pages'], errors='coerce')\n",
            "<ipython-input-38-9559388ad2f7>:16: SettingWithCopyWarning: \n",
            "A value is trying to be set on a copy of a slice from a DataFrame.\n",
            "Try using .loc[row_indexer,col_indexer] = value instead\n",
            "\n",
            "See the caveats in the documentation: https://pandas.pydata.org/pandas-docs/stable/user_guide/indexing.html#returning-a-view-versus-a-copy\n",
            "  select_books['num_pages'] = pd.to_numeric(select_books['num_pages'], errors='coerce')\n",
            "<ipython-input-38-9559388ad2f7>:16: SettingWithCopyWarning: \n",
            "A value is trying to be set on a copy of a slice from a DataFrame.\n",
            "Try using .loc[row_indexer,col_indexer] = value instead\n",
            "\n",
            "See the caveats in the documentation: https://pandas.pydata.org/pandas-docs/stable/user_guide/indexing.html#returning-a-view-versus-a-copy\n",
            "  select_books['num_pages'] = pd.to_numeric(select_books['num_pages'], errors='coerce')\n",
            "<ipython-input-38-9559388ad2f7>:16: SettingWithCopyWarning: \n",
            "A value is trying to be set on a copy of a slice from a DataFrame.\n",
            "Try using .loc[row_indexer,col_indexer] = value instead\n",
            "\n",
            "See the caveats in the documentation: https://pandas.pydata.org/pandas-docs/stable/user_guide/indexing.html#returning-a-view-versus-a-copy\n",
            "  select_books['num_pages'] = pd.to_numeric(select_books['num_pages'], errors='coerce')\n",
            "<ipython-input-38-9559388ad2f7>:16: SettingWithCopyWarning: \n",
            "A value is trying to be set on a copy of a slice from a DataFrame.\n",
            "Try using .loc[row_indexer,col_indexer] = value instead\n",
            "\n",
            "See the caveats in the documentation: https://pandas.pydata.org/pandas-docs/stable/user_guide/indexing.html#returning-a-view-versus-a-copy\n",
            "  select_books['num_pages'] = pd.to_numeric(select_books['num_pages'], errors='coerce')\n",
            "<ipython-input-38-9559388ad2f7>:16: SettingWithCopyWarning: \n",
            "A value is trying to be set on a copy of a slice from a DataFrame.\n",
            "Try using .loc[row_indexer,col_indexer] = value instead\n",
            "\n",
            "See the caveats in the documentation: https://pandas.pydata.org/pandas-docs/stable/user_guide/indexing.html#returning-a-view-versus-a-copy\n",
            "  select_books['num_pages'] = pd.to_numeric(select_books['num_pages'], errors='coerce')\n",
            "<ipython-input-38-9559388ad2f7>:16: SettingWithCopyWarning: \n",
            "A value is trying to be set on a copy of a slice from a DataFrame.\n",
            "Try using .loc[row_indexer,col_indexer] = value instead\n",
            "\n",
            "See the caveats in the documentation: https://pandas.pydata.org/pandas-docs/stable/user_guide/indexing.html#returning-a-view-versus-a-copy\n",
            "  select_books['num_pages'] = pd.to_numeric(select_books['num_pages'], errors='coerce')\n",
            "<ipython-input-38-9559388ad2f7>:16: SettingWithCopyWarning: \n",
            "A value is trying to be set on a copy of a slice from a DataFrame.\n",
            "Try using .loc[row_indexer,col_indexer] = value instead\n",
            "\n",
            "See the caveats in the documentation: https://pandas.pydata.org/pandas-docs/stable/user_guide/indexing.html#returning-a-view-versus-a-copy\n",
            "  select_books['num_pages'] = pd.to_numeric(select_books['num_pages'], errors='coerce')\n",
            "<ipython-input-38-9559388ad2f7>:16: SettingWithCopyWarning: \n",
            "A value is trying to be set on a copy of a slice from a DataFrame.\n",
            "Try using .loc[row_indexer,col_indexer] = value instead\n",
            "\n",
            "See the caveats in the documentation: https://pandas.pydata.org/pandas-docs/stable/user_guide/indexing.html#returning-a-view-versus-a-copy\n",
            "  select_books['num_pages'] = pd.to_numeric(select_books['num_pages'], errors='coerce')\n",
            "<ipython-input-38-9559388ad2f7>:16: SettingWithCopyWarning: \n",
            "A value is trying to be set on a copy of a slice from a DataFrame.\n",
            "Try using .loc[row_indexer,col_indexer] = value instead\n",
            "\n",
            "See the caveats in the documentation: https://pandas.pydata.org/pandas-docs/stable/user_guide/indexing.html#returning-a-view-versus-a-copy\n",
            "  select_books['num_pages'] = pd.to_numeric(select_books['num_pages'], errors='coerce')\n",
            "<ipython-input-38-9559388ad2f7>:16: SettingWithCopyWarning: \n",
            "A value is trying to be set on a copy of a slice from a DataFrame.\n",
            "Try using .loc[row_indexer,col_indexer] = value instead\n",
            "\n",
            "See the caveats in the documentation: https://pandas.pydata.org/pandas-docs/stable/user_guide/indexing.html#returning-a-view-versus-a-copy\n",
            "  select_books['num_pages'] = pd.to_numeric(select_books['num_pages'], errors='coerce')\n",
            "<ipython-input-38-9559388ad2f7>:16: SettingWithCopyWarning: \n",
            "A value is trying to be set on a copy of a slice from a DataFrame.\n",
            "Try using .loc[row_indexer,col_indexer] = value instead\n",
            "\n",
            "See the caveats in the documentation: https://pandas.pydata.org/pandas-docs/stable/user_guide/indexing.html#returning-a-view-versus-a-copy\n",
            "  select_books['num_pages'] = pd.to_numeric(select_books['num_pages'], errors='coerce')\n",
            "<ipython-input-38-9559388ad2f7>:16: SettingWithCopyWarning: \n",
            "A value is trying to be set on a copy of a slice from a DataFrame.\n",
            "Try using .loc[row_indexer,col_indexer] = value instead\n",
            "\n",
            "See the caveats in the documentation: https://pandas.pydata.org/pandas-docs/stable/user_guide/indexing.html#returning-a-view-versus-a-copy\n",
            "  select_books['num_pages'] = pd.to_numeric(select_books['num_pages'], errors='coerce')\n",
            "<ipython-input-38-9559388ad2f7>:16: SettingWithCopyWarning: \n",
            "A value is trying to be set on a copy of a slice from a DataFrame.\n",
            "Try using .loc[row_indexer,col_indexer] = value instead\n",
            "\n",
            "See the caveats in the documentation: https://pandas.pydata.org/pandas-docs/stable/user_guide/indexing.html#returning-a-view-versus-a-copy\n",
            "  select_books['num_pages'] = pd.to_numeric(select_books['num_pages'], errors='coerce')\n",
            "<ipython-input-38-9559388ad2f7>:16: SettingWithCopyWarning: \n",
            "A value is trying to be set on a copy of a slice from a DataFrame.\n",
            "Try using .loc[row_indexer,col_indexer] = value instead\n",
            "\n",
            "See the caveats in the documentation: https://pandas.pydata.org/pandas-docs/stable/user_guide/indexing.html#returning-a-view-versus-a-copy\n",
            "  select_books['num_pages'] = pd.to_numeric(select_books['num_pages'], errors='coerce')\n",
            "<ipython-input-38-9559388ad2f7>:16: SettingWithCopyWarning: \n",
            "A value is trying to be set on a copy of a slice from a DataFrame.\n",
            "Try using .loc[row_indexer,col_indexer] = value instead\n",
            "\n",
            "See the caveats in the documentation: https://pandas.pydata.org/pandas-docs/stable/user_guide/indexing.html#returning-a-view-versus-a-copy\n",
            "  select_books['num_pages'] = pd.to_numeric(select_books['num_pages'], errors='coerce')\n",
            "<ipython-input-38-9559388ad2f7>:16: SettingWithCopyWarning: \n",
            "A value is trying to be set on a copy of a slice from a DataFrame.\n",
            "Try using .loc[row_indexer,col_indexer] = value instead\n",
            "\n",
            "See the caveats in the documentation: https://pandas.pydata.org/pandas-docs/stable/user_guide/indexing.html#returning-a-view-versus-a-copy\n",
            "  select_books['num_pages'] = pd.to_numeric(select_books['num_pages'], errors='coerce')\n",
            "<ipython-input-38-9559388ad2f7>:16: SettingWithCopyWarning: \n",
            "A value is trying to be set on a copy of a slice from a DataFrame.\n",
            "Try using .loc[row_indexer,col_indexer] = value instead\n",
            "\n",
            "See the caveats in the documentation: https://pandas.pydata.org/pandas-docs/stable/user_guide/indexing.html#returning-a-view-versus-a-copy\n",
            "  select_books['num_pages'] = pd.to_numeric(select_books['num_pages'], errors='coerce')\n",
            "<ipython-input-38-9559388ad2f7>:16: SettingWithCopyWarning: \n",
            "A value is trying to be set on a copy of a slice from a DataFrame.\n",
            "Try using .loc[row_indexer,col_indexer] = value instead\n",
            "\n",
            "See the caveats in the documentation: https://pandas.pydata.org/pandas-docs/stable/user_guide/indexing.html#returning-a-view-versus-a-copy\n",
            "  select_books['num_pages'] = pd.to_numeric(select_books['num_pages'], errors='coerce')\n",
            "<ipython-input-38-9559388ad2f7>:16: SettingWithCopyWarning: \n",
            "A value is trying to be set on a copy of a slice from a DataFrame.\n",
            "Try using .loc[row_indexer,col_indexer] = value instead\n",
            "\n",
            "See the caveats in the documentation: https://pandas.pydata.org/pandas-docs/stable/user_guide/indexing.html#returning-a-view-versus-a-copy\n",
            "  select_books['num_pages'] = pd.to_numeric(select_books['num_pages'], errors='coerce')\n",
            "<ipython-input-38-9559388ad2f7>:16: SettingWithCopyWarning: \n",
            "A value is trying to be set on a copy of a slice from a DataFrame.\n",
            "Try using .loc[row_indexer,col_indexer] = value instead\n",
            "\n",
            "See the caveats in the documentation: https://pandas.pydata.org/pandas-docs/stable/user_guide/indexing.html#returning-a-view-versus-a-copy\n",
            "  select_books['num_pages'] = pd.to_numeric(select_books['num_pages'], errors='coerce')\n",
            "<ipython-input-38-9559388ad2f7>:16: SettingWithCopyWarning: \n",
            "A value is trying to be set on a copy of a slice from a DataFrame.\n",
            "Try using .loc[row_indexer,col_indexer] = value instead\n",
            "\n",
            "See the caveats in the documentation: https://pandas.pydata.org/pandas-docs/stable/user_guide/indexing.html#returning-a-view-versus-a-copy\n",
            "  select_books['num_pages'] = pd.to_numeric(select_books['num_pages'], errors='coerce')\n",
            "<ipython-input-38-9559388ad2f7>:16: SettingWithCopyWarning: \n",
            "A value is trying to be set on a copy of a slice from a DataFrame.\n",
            "Try using .loc[row_indexer,col_indexer] = value instead\n",
            "\n",
            "See the caveats in the documentation: https://pandas.pydata.org/pandas-docs/stable/user_guide/indexing.html#returning-a-view-versus-a-copy\n",
            "  select_books['num_pages'] = pd.to_numeric(select_books['num_pages'], errors='coerce')\n"
          ]
        },
        {
          "name": "stdout",
          "output_type": "stream",
          "text": [
            "Head of the DataFrame:\n",
            "      Books Published   Total Pages Most Prolific Month  \\\n",
            "1990            61655  1.055410e+07                  01   \n",
            "1991            65571  1.136554e+07                  01   \n",
            "1992            70826  1.226798e+07                  01   \n",
            "1993            73965  1.294439e+07                  01   \n",
            "1994            79082  1.348162e+07                  01   \n",
            "1995            86212  1.468196e+07                  01   \n",
            "1996            92696  1.580852e+07                  01   \n",
            "1997           100289  2.166944e+09                  01   \n",
            "1998           107046  1.812173e+07                  01   \n",
            "1999           114032  1.975968e+07                  01   \n",
            "\n",
            "                                           Longest Book  \n",
            "1990  The New International Commentary on the Old Te...  \n",
            "1991           The New American Commentary Series (NAC)  \n",
            "1992             Paperbound Books in Print, Spring 1992  \n",
            "1993                     En grusom kvinnes bekjennelser  \n",
            "1994    Richard Wright: A Collection of Critical Essays  \n",
            "1995          الموسوعة الشاملة في تاريخ الحروب الصليبية  \n",
            "1996     The Persian Encyclopedia (دايرة المعارف فارسى)  \n",
            "1997                                  שלושה סיפורי אהבה  \n",
            "1998                                         Prealgebra  \n",
            "1999  Theological and Miscellaneous Works of Joseph ...  \n",
            "\n",
            "Tail of the DataFrame:\n",
            "      Books Published  Total Pages Most Prolific Month  \\\n",
            "2013           430979   67942386.0                  01   \n",
            "2014           358376   44591442.0                  01   \n",
            "2015           119988   14386882.0                  01   \n",
            "2016             3447     740098.0                  01   \n",
            "2017             1038     179499.0                  02   \n",
            "2018              413      82198.0                  01   \n",
            "2019              319      50895.0                  08   \n",
            "2020              278      36721.0                  05   \n",
            "2021               52      10677.0                  03   \n",
            "2022               28       2587.0                  10   \n",
            "\n",
            "                                           Longest Book  \n",
            "2013    Fermata Qt8 - Storie Ripensate in Metropolitana  \n",
            "2014   A Most Unlikely Countess (To Love a Wildcat, #2)  \n",
            "2015  Revel for the American Nation: A History of th...  \n",
            "2016                                          Homestuck  \n",
            "2017                             The Starfarers Quartet  \n",
            "2018                                              地海六部曲  \n",
            "2019                                      Nouvelles Les  \n",
            "2020          The Complete Ripley Novels (Ripley, #1-5)  \n",
            "2021  The Navigator's Children (The Last King of Ost...  \n",
            "2022                Annabel Horton: Lost Witch of Salem  \n"
          ]
        },
        {
          "name": "stderr",
          "output_type": "stream",
          "text": [
            "<ipython-input-38-9559388ad2f7>:16: SettingWithCopyWarning: \n",
            "A value is trying to be set on a copy of a slice from a DataFrame.\n",
            "Try using .loc[row_indexer,col_indexer] = value instead\n",
            "\n",
            "See the caveats in the documentation: https://pandas.pydata.org/pandas-docs/stable/user_guide/indexing.html#returning-a-view-versus-a-copy\n",
            "  select_books['num_pages'] = pd.to_numeric(select_books['num_pages'], errors='coerce')\n",
            "<ipython-input-38-9559388ad2f7>:16: SettingWithCopyWarning: \n",
            "A value is trying to be set on a copy of a slice from a DataFrame.\n",
            "Try using .loc[row_indexer,col_indexer] = value instead\n",
            "\n",
            "See the caveats in the documentation: https://pandas.pydata.org/pandas-docs/stable/user_guide/indexing.html#returning-a-view-versus-a-copy\n",
            "  select_books['num_pages'] = pd.to_numeric(select_books['num_pages'], errors='coerce')\n",
            "<ipython-input-38-9559388ad2f7>:16: SettingWithCopyWarning: \n",
            "A value is trying to be set on a copy of a slice from a DataFrame.\n",
            "Try using .loc[row_indexer,col_indexer] = value instead\n",
            "\n",
            "See the caveats in the documentation: https://pandas.pydata.org/pandas-docs/stable/user_guide/indexing.html#returning-a-view-versus-a-copy\n",
            "  select_books['num_pages'] = pd.to_numeric(select_books['num_pages'], errors='coerce')\n",
            "<ipython-input-38-9559388ad2f7>:16: SettingWithCopyWarning: \n",
            "A value is trying to be set on a copy of a slice from a DataFrame.\n",
            "Try using .loc[row_indexer,col_indexer] = value instead\n",
            "\n",
            "See the caveats in the documentation: https://pandas.pydata.org/pandas-docs/stable/user_guide/indexing.html#returning-a-view-versus-a-copy\n",
            "  select_books['num_pages'] = pd.to_numeric(select_books['num_pages'], errors='coerce')\n",
            "<ipython-input-38-9559388ad2f7>:16: SettingWithCopyWarning: \n",
            "A value is trying to be set on a copy of a slice from a DataFrame.\n",
            "Try using .loc[row_indexer,col_indexer] = value instead\n",
            "\n",
            "See the caveats in the documentation: https://pandas.pydata.org/pandas-docs/stable/user_guide/indexing.html#returning-a-view-versus-a-copy\n",
            "  select_books['num_pages'] = pd.to_numeric(select_books['num_pages'], errors='coerce')\n",
            "<ipython-input-38-9559388ad2f7>:16: SettingWithCopyWarning: \n",
            "A value is trying to be set on a copy of a slice from a DataFrame.\n",
            "Try using .loc[row_indexer,col_indexer] = value instead\n",
            "\n",
            "See the caveats in the documentation: https://pandas.pydata.org/pandas-docs/stable/user_guide/indexing.html#returning-a-view-versus-a-copy\n",
            "  select_books['num_pages'] = pd.to_numeric(select_books['num_pages'], errors='coerce')\n",
            "<ipython-input-38-9559388ad2f7>:16: SettingWithCopyWarning: \n",
            "A value is trying to be set on a copy of a slice from a DataFrame.\n",
            "Try using .loc[row_indexer,col_indexer] = value instead\n",
            "\n",
            "See the caveats in the documentation: https://pandas.pydata.org/pandas-docs/stable/user_guide/indexing.html#returning-a-view-versus-a-copy\n",
            "  select_books['num_pages'] = pd.to_numeric(select_books['num_pages'], errors='coerce')\n"
          ]
        }
      ],
      "source": [
        "#Soluzione di CHATGPT (2)\n",
        "import pandas as pd\n",
        "\n",
        "# Assuming you have two DataFrames 'df' and 'df1' as you described\n",
        "# Extract the year from the 'original_publication_date' column in df1\n",
        "df1['publication_year'] = pd.to_datetime(df1['original_publication_date'], errors='coerce').dt.year\n",
        "\n",
        "# Define a function to get information for a specific year\n",
        "def get_yearly_info(year):\n",
        "    select_books = df1[df1['publication_year'] == year]\n",
        "\n",
        "    # The number of books published that year\n",
        "    published_books = len(select_books)\n",
        "\n",
        "    # The total number of pages written that year\n",
        "    select_books['num_pages'] = pd.to_numeric(select_books['num_pages'], errors='coerce')\n",
        "    total_pages = select_books['num_pages'].sum()\n",
        "\n",
        "    # The most prolific month of that year\n",
        "    most_prolific_month = select_books['original_publication_date'].str.split('-', expand=True)[1].mode().values[0]\n",
        "\n",
        "    # The longest book written that year\n",
        "    longest_book = select_books.loc[select_books['num_pages'].idxmax()]['title']\n",
        "\n",
        "    return [published_books, total_pages, most_prolific_month, longest_book]\n",
        "\n",
        "# Create a DataFrame for the required information\n",
        "years = list(range(1990, 2023))  # Assuming you have data from 1990 to 2022\n",
        "data = []\n",
        "\n",
        "for year in years:\n",
        "    info = get_yearly_info(year)\n",
        "    data.append(info)\n",
        "\n",
        "columns = ['Books Published', 'Total Pages', 'Most Prolific Month', 'Longest Book']\n",
        "yearly_info_df = pd.DataFrame(data, index=years, columns=columns)\n",
        "\n",
        "# Display the head and tail of the DataFrame\n",
        "print(\"Head of the DataFrame:\")\n",
        "print(yearly_info_df.head(10))\n",
        "\n",
        "print(\"\\nTail of the DataFrame:\")\n",
        "print(yearly_info_df.tail(10))\n",
        "\n",
        "\n",
        "#This solution of CHATGPT works. The output is different for some books because\n",
        "#CHATGPT assumes that the range of the years is from 1990 to 2023 (in our\n",
        "#solution we assume that the years is maximum 2023, but a book can be published\n",
        "#also before 1990).\n",
        "#To prove this solution we just described to CHATGPT the structure of the dataset\n",
        "#of the authors, specifying that the 'original_publication_date' is sometimes\n",
        "#incomplete (for this reason it uses errors='coerce'), and then we run the code.\n",
        "#It gives a SettingWithCopyWarning because it is modifying a column of the Dataframe\n",
        "#and this can bring changes to the original data."
      ]
    },
    {
      "cell_type": "code",
      "execution_count": null,
      "metadata": {
        "colab": {
          "background_save": true,
          "base_uri": "https://localhost:8080/"
        },
        "id": "KJXRj7ozkkzo",
        "outputId": "3b4f1888-9aab-4849-e7a9-aa4a3eed1bc3"
      },
      "outputs": [
        {
          "name": "stdout",
          "output_type": "stream",
          "text": [
            "It's true, there are no eponymous authors\n",
            "\n",
            "The longest book title among the books of the top 20 authors regarding their average rating is:\n",
            " Educating the Royal Navy: 18th and 19th Century Education for Officers (Cass Series: Naval Policy and History)\n",
            "It is not the longest book title overall\n"
          ]
        },
        {
          "ename": "TypeError",
          "evalue": "ignored",
          "output_type": "error",
          "traceback": [
            "\u001b[0;31m---------------------------------------------------------------------------\u001b[0m",
            "\u001b[0;31mTypeError\u001b[0m                                 Traceback (most recent call last)",
            "\u001b[0;32m<ipython-input-29-172cab9f4afa>\u001b[0m in \u001b[0;36m<cell line: 55>\u001b[0;34m()\u001b[0m\n\u001b[1;32m     53\u001b[0m \u001b[0;31m#What is the shortest overall book title in the dataset? If you find something\u001b[0m\u001b[0;34m\u001b[0m\u001b[0;34m\u001b[0m\u001b[0m\n\u001b[1;32m     54\u001b[0m \u001b[0;31m#strange, provide a comment on what happened and an alternative answer.\u001b[0m\u001b[0;34m\u001b[0m\u001b[0;34m\u001b[0m\u001b[0m\n\u001b[0;32m---> 55\u001b[0;31m \u001b[0mmin_total\u001b[0m \u001b[0;34m=\u001b[0m \u001b[0mmin\u001b[0m\u001b[0;34m(\u001b[0m\u001b[0mbooks_len_total\u001b[0m\u001b[0;34m,\u001b[0m \u001b[0mkey\u001b[0m\u001b[0;34m=\u001b[0m\u001b[0;32mlambda\u001b[0m \u001b[0mx\u001b[0m\u001b[0;34m:\u001b[0m \u001b[0mx\u001b[0m\u001b[0;34m[\u001b[0m\u001b[0;36m1\u001b[0m\u001b[0;34m]\u001b[0m\u001b[0;34m)\u001b[0m\u001b[0;34m\u001b[0m\u001b[0;34m\u001b[0m\u001b[0m\n\u001b[0m\u001b[1;32m     56\u001b[0m \u001b[0mprint\u001b[0m\u001b[0;34m(\u001b[0m\u001b[0;34m\"The shortest overall book title is: \"\u001b[0m\u001b[0;34m,\u001b[0m \u001b[0mmin_total\u001b[0m\u001b[0;34m)\u001b[0m\u001b[0;34m\u001b[0m\u001b[0;34m\u001b[0m\u001b[0m\n\u001b[1;32m     57\u001b[0m \u001b[0;31m#DA COMPLETARE E VEDERE SE C'è QUALCOSA DI STRANO\u001b[0m\u001b[0;34m\u001b[0m\u001b[0;34m\u001b[0m\u001b[0m\n",
            "\u001b[0;32m<ipython-input-29-172cab9f4afa>\u001b[0m in \u001b[0;36m<lambda>\u001b[0;34m(x)\u001b[0m\n\u001b[1;32m     53\u001b[0m \u001b[0;31m#What is the shortest overall book title in the dataset? If you find something\u001b[0m\u001b[0;34m\u001b[0m\u001b[0;34m\u001b[0m\u001b[0m\n\u001b[1;32m     54\u001b[0m \u001b[0;31m#strange, provide a comment on what happened and an alternative answer.\u001b[0m\u001b[0;34m\u001b[0m\u001b[0;34m\u001b[0m\u001b[0m\n\u001b[0;32m---> 55\u001b[0;31m \u001b[0mmin_total\u001b[0m \u001b[0;34m=\u001b[0m \u001b[0mmin\u001b[0m\u001b[0;34m(\u001b[0m\u001b[0mbooks_len_total\u001b[0m\u001b[0;34m,\u001b[0m \u001b[0mkey\u001b[0m\u001b[0;34m=\u001b[0m\u001b[0;32mlambda\u001b[0m \u001b[0mx\u001b[0m\u001b[0;34m:\u001b[0m \u001b[0mx\u001b[0m\u001b[0;34m[\u001b[0m\u001b[0;36m1\u001b[0m\u001b[0;34m]\u001b[0m\u001b[0;34m)\u001b[0m\u001b[0;34m\u001b[0m\u001b[0;34m\u001b[0m\u001b[0m\n\u001b[0m\u001b[1;32m     56\u001b[0m \u001b[0mprint\u001b[0m\u001b[0;34m(\u001b[0m\u001b[0;34m\"The shortest overall book title is: \"\u001b[0m\u001b[0;34m,\u001b[0m \u001b[0mmin_total\u001b[0m\u001b[0;34m)\u001b[0m\u001b[0;34m\u001b[0m\u001b[0;34m\u001b[0m\u001b[0m\n\u001b[1;32m     57\u001b[0m \u001b[0;31m#DA COMPLETARE E VEDERE SE C'è QUALCOSA DI STRANO\u001b[0m\u001b[0;34m\u001b[0m\u001b[0;34m\u001b[0m\u001b[0m\n",
            "\u001b[0;31mTypeError\u001b[0m: 'int' object is not subscriptable"
          ]
        }
      ],
      "source": [
        "from numpy.lib.function_base import digitize\n",
        "#PUNTO 4\n",
        "\n",
        "#You should be sure there are no eponymous (different authors who have precisely\n",
        "#the same name) in the author's dataset. Is it true?\n",
        "duplicates= list(df['name'].duplicated())\n",
        "if len(duplicates) !=0:\n",
        "  print(\"It's true, there are no eponymous authors\")\n",
        "else:\n",
        "  print(\"It's not true, there are eponymous authors\")\n",
        "\n",
        "#Write a function that, given a list of author_id, outputs a dictionary where\n",
        "#each author_id is a key, and the related value is a list with the names of all\n",
        "#the books the author has written.\n",
        "id_authors=list(df['id'])\n",
        "def books_dict(author_id, dataframe):\n",
        "  diz = dict()\n",
        "  for i in id_authors:\n",
        "    author_books = dataframe[dataframe['author_id']==i]\n",
        "    titles= list(author_books['title'])\n",
        "    diz[i]=titles\n",
        "\n",
        "  return(diz)\n",
        "\n",
        "#What is the longest book title among the books of the top 20 authors regarding\n",
        "#their average rating? Is it the longest book title overall?\n",
        "authors_total = df[['average_rating', 'id','name']]\n",
        "authors_total = authors_total.sort_values(by='average_rating', ascending=False)\n",
        "authors_20top = authors_total[:20] #Find the top 20 authors\n",
        "diz_20top = books_dict(authors_20top['id'], df1)\n",
        "\n",
        "max_t=0\n",
        "for id, titles in diz_20top.items():\n",
        "  for i in titles:\n",
        "    if len(i) > max_t:\n",
        "      max_t=len(i)\n",
        "      longest_book=i\n",
        "print(\"\\nThe longest book title among the books of the top 20 authors regarding their average rating is:\\n\", longest_book)\n",
        "\n",
        "diz_total = books_dict(id_authors, df1)\n",
        "max_all=0\n",
        "for id, titles in diz_total.items():\n",
        "  for i in titles:\n",
        "    if len(i) > max_all:\n",
        "      max_all=len(i)\n",
        "      longest_all=i\n",
        "\n",
        "if longest_all==longest_book:\n",
        "  print(\"It is the longest book title overall.\")\n",
        "else:\n",
        "  print(\"It is not the longest book title overall.\") #FINO A QUI FUNZIONA, OK!\n",
        "\n",
        "#What is the shortest overall book title in the dataset? If you find something\n",
        "#strange, provide a comment on what happened and an alternative answer.\n",
        "min_all=float('inf')\n",
        "for id, titles in diz_total.items():\n",
        "  for i in titles:\n",
        "    if len(i) < min_all:\n",
        "      min_all=len(i)\n",
        "      shortest_all=i\n",
        "if shortest_all != None:\n",
        "  print(\"The shortest overall book title is: \", min_all)\n",
        "else:\n",
        "  print(\"There is something strange, the shortest book has 0 pages\")\n",
        "\n",
        "#DA RUNNARE E VEDERE SE C'è QUALCOSA DI STRANO"
      ]
    },
    {
      "cell_type": "code",
      "execution_count": null,
      "metadata": {
        "colab": {
          "base_uri": "https://localhost:8080/",
          "height": 903
        },
        "id": "-8Pjf2Znkk3D",
        "outputId": "d0d473ae-1187-45f9-9f8d-698db6b64d0a"
      },
      "outputs": [
        {
          "name": "stdout",
          "output_type": "stream",
          "text": [
            "The top 10 most influential authors are:\n",
            " 1017             Stephen King\n",
            "1161          James Patterson\n",
            "27110         Cassandra Clare\n",
            "4537             Rick Riordan\n",
            "169374          Veronica Roth\n",
            "205870         Colleen Hoover\n",
            "100166             John Green\n",
            "3818      Neil deGrasse Tyson\n",
            "32358            Mindy Kaling\n",
            "6397              Bill  Gates\n",
            "Name: name, dtype: string\n",
            "The most influential author is:  Stephen King\n",
            "\n",
            "There isn't a longest serie name.\n",
            "\n",
            "There is  1  author with different formats publications\n",
            "\n"
          ]
        },
        {
          "data": {
            "image/png": "[encoded data removed]",
            "text/plain": [
              "<Figure size 640x480 with 1 Axes>"
            ]
          },
          "metadata": {},
          "output_type": "display_data"
        }
      ],
      "source": [
        "import numpy as np\n",
        "import matplotlib.pyplot as plt\n",
        "#PUNTO 5\n",
        "#Plot the top 10 most influential authors regarding their fan count and number\n",
        "#of books. Who is the most influential author?\n",
        "\n",
        "#AUTHORS: Index(['ratings_count', 'average_rating', 'text_reviews_count', 'work_ids',\n",
        "       #'book_ids', 'works_count', 'id', 'name', 'gender', 'image_url', 'about',\n",
        "       #'fans_count']\n",
        "\n",
        "#Ordering by fan count\n",
        "authors_influential = df.sort_values(by = 'fans_count', ascending = False)\n",
        "authors_influential = authors_influential[:10]\n",
        "#Ordering by number of books\n",
        "authors_influential = authors_influential.sort_values(by = 'works_count', ascending = False)\n",
        "print(\"The top 10 most influential authors are:\\n\", authors_influential['name'])\n",
        "\n",
        "most_influent = authors_influential.iloc[0]\n",
        "print(\"The most influential author is: \", most_influent['name'])\n",
        "\n",
        "#Have they published any series of books? If any, extract the longest series\n",
        "#name among these authors.\n",
        "\n",
        "#Index(['id', 'title', 'authors', 'author_name', 'author_id', 'work_id', 'isbn',\n",
        "      # 'isbn13', 'asin', 'language', 'average_rating', 'rating_dist',\n",
        "      # 'ratings_count', 'text_reviews_count', 'publication_date',\n",
        "      # 'original_publication_date', 'format', 'edition_information',\n",
        "      # 'image_url', 'publisher', 'num_pages', 'series_id', 'series_name',\n",
        "      # 'series_position', 'shelves', 'description']\n",
        "names_influent= authors_influential['name']\n",
        "for i in names_influent:\n",
        "  influent = df1[df1['author_name']==i]\n",
        "\n",
        "max=0\n",
        "longest_series_name=None #in the case there isn't a serie name\n",
        "names_series= influent['series_name']\n",
        "for j in names_series:\n",
        "  if len(j) > max:\n",
        "    max=len(j)\n",
        "    longest_series_name = i\n",
        "if longest_series_name != None:\n",
        "  print(\"\\nThe longest series name is: \", longest_series_name)\n",
        "else:\n",
        "  print(\"\\nThere isn't a longest serie name.\")\n",
        "\n",
        "#How many of these authors have been published in different formats?\n",
        "#Provide a meaningful chart on the distribution of the formats and comment on it.\n",
        "\n",
        "#First we create a dictionary with the author name as the key and the formats as the elements for each one.\n",
        "def format_dict(author_name, dataframe):\n",
        "  diz = dict()\n",
        "  for i in names_influent:\n",
        "    influent_10 = dataframe[dataframe['author_name']==i]\n",
        "    formats= list(influent_10['format'])\n",
        "    diz[i]=formats\n",
        "\n",
        "  return(diz)\n",
        "\n",
        "diz_format=format_dict(influent['author_name'], influent)\n",
        "\n",
        "#Then we see if there are duplicates in the format.\n",
        "count=0\n",
        "for i in diz_format.values():\n",
        "  if len(set(i)) != len(i):\n",
        "    count += 1\n",
        "if count==0:\n",
        "  print(\"\\nThere are no author with different formats publications.\\n\")\n",
        "if count==1:\n",
        "  print(\"\\nThere is \", count, \" author with different formats publications.\\n\")\n",
        "else:\n",
        "  print(\"\\nThere are \", count, \" author with different formats publications.\\n\")\n",
        "\n",
        "#Histogram\n",
        "#All the formats in a list\n",
        "formats_all = [i for j in diz_format.values() for i in j]\n",
        "#Creating a dictionary that connets the formats to their index\n",
        "unique_form = np.unique(formats_all)\n",
        "diz_form_index = {} #creating a dictionary with all the formats and the corrispondent index\n",
        "for index, format in enumerate(unique_form):\n",
        "  diz_form_index[format]=index\n",
        "#Converting the formats in numeric indexes\n",
        "formats_numbers = [diz_form_index[i] for i in formats_all]\n",
        "#Calculating the histogram\n",
        "hist, bin_edges = np.histogram(formats_numbers, bins=np.arange(len(unique_form)+1))\n",
        "#Bar chart\n",
        "plt.bar(unique_form, hist, color='red')\n",
        "plt.xlabel('Formats')\n",
        "plt.ylabel('Number of books')\n",
        "plt.title(\"Distribution of the book's formats\")\n",
        "plt.xticks(rotation=45)  #Ruotating every name of the bars of 45°\n",
        "plt.show() #DA RICONTROLLARE PERCHè ALCUNE BARRE NON HANNO NOME\n",
        "\n",
        "#Provide information about the general response from readers (number of fans,\n",
        "#average rating, number of reviews, etc.), divide the authors by gender, and\n",
        "#comment about anything eventually related to “structural bias.”\n",
        "## ???????????????????????????????\n",
        "\n",
        "#Faccio una tabella printando le info per ogni autore. Poi confronto tra i generi\n",
        "#vedo se c'è differenza tra uomo-donna.\n",
        "info_influent = authors_influential[['average_rating', 'ratings_count', 'text_reviews_count',\n",
        "                    'fans_count', 'gender']]\n",
        "df_influent = pd.DataFrame(info_influent)\n",
        "print(df_influent)\n",
        "#MANCA IL COMMENTO IN BASE AI DATI: #m, f, queer, altro --> le 4 categorie\n",
        "#relazione tra average rating e sesso\n",
        "#anche con fans count\n",
        "#text reviews"
      ]
    },
    {
      "cell_type": "code",
      "execution_count": null,
      "metadata": {
        "colab": {
          "base_uri": "https://localhost:8080/"
        },
        "id": "OnOyv6vUklA7",
        "outputId": "93ee9ddf-34e8-4eec-abe1-88d46f39eb9f"
      },
      "outputs": [
        {
          "name": "stdout",
          "output_type": "stream",
          "text": [
            "0\n"
          ]
        }
      ],
      "source": [
        "# PUNTO 6\n",
        "\n",
        "# Devo trovare la media del tempo tra due pubblicazioni successive per ogni autore\n",
        "# sia nella serie sia per i libri non appartenenti alla serie.\n",
        "#Faccio due medie.\n",
        "#Considero gli anni.\n",
        "#Sort degli anni di pubblicazione per ogni autore, così poi calcolo le differenze\n",
        "#tra una pubblicazione e un'altra e faccio la media delle differenze.\n",
        "\n",
        "#In media mi aspetto di vedere che un autore pubblica ogni due anni tipo.\n",
        "\n",
        "\n",
        "#Provide the average time gap between two subsequent publications for a series\n",
        "#of books and those not belonging to a series. What do you expect to see,\n",
        "#and what is the actual answer to this question?\n",
        "def average_time(names_influent, influent_df):\n",
        "  gap_serie=[]\n",
        "  gap_not_serie=[]\n",
        "\n",
        "  for i in names_influent:\n",
        "    series = influent_df[influent_df['series_name'].notna()] #capire se va bene dividerli così però....\n",
        "    not_series = influent_df[influent_df['series_name'].isna()]\n",
        "\n",
        "    if not series.empty:\n",
        "      gap_serie = series['publication_date'].diff().mean()\n",
        "      gap.append(gap_serie)\n",
        "\n",
        "    if not not_series.empty:\n",
        "      gap_not_serie = not_series['publication_date'].diff().mean()\n",
        "      gap_not_serie.append(gap_not_serie)\n",
        "\n",
        "  print('Average time gap (serie)': sum(gap_serie, pd.Timedelta()) / len(gap_serie))\n",
        "  print('Average time gap (not serie)': sum(gap_not_serie, pd.Timedelta()) / len(gap_not_serie))\n",
        "  #DA SISTEMARE PERCHè PRESO DA CHATGPT\n",
        "\n",
        "#For each of the authors, give a convenient plot showing how many books has\n",
        "#the given author published UP TO a given year. Are these authors contemporary\n",
        "#with each other? Can you notice a range of years where their production rate\n",
        "#was higher?\n",
        "        #UP TO a given year = FINO A un determinato anno\n",
        "#First we create a dictionary with the author name as the key and the books as the elements for each one.\n",
        "def books_influent_dict(author_name, given_year, dataframe):\n",
        "  diz = dict()\n",
        "  for i in names_influent:\n",
        "    influent_10 = dataframe[dataframe['author_name']==i]\n",
        "    if influent_10['publication_year'] <= given_year:\n",
        "      books = list(influent_10['title'])\n",
        "      diz[i]=books\n",
        "\n",
        "  return(diz)\n",
        "\n",
        "#devo fare attenzione a quando manca l'anno\n",
        "def hist_uptoyear(year, influent_df):\n",
        "  #publications_uptoyear = influent_df[influent_df['publication_year']<= year]\n",
        "  diz_books_influent = books_influent_dict(names_influent, year, df1)\n",
        "  #Creating a dictionary to count how many books there are for each author\n",
        "  counts_dict = {}\n",
        "  for i, j in diz_books_influent.items():    #NO PERCHè DEVO CONSIDERARE L'ANNO FINO A CUI VOGLIO FARE IL GRAFICO\n",
        "    counts_dict[i]=len(j)\n",
        "  #Transforming the dictionary into dataframe\n",
        "  df_counts = pd.DataFrame(list(counts_dict.items()), columns=['author', 'number_of_books'])\n",
        "\n",
        "  #Histogram\n",
        "  df.plot.bar(x='author', y='number_of_books', legend=False)\n",
        "  plt.title(f'Publication up to {year}')\n",
        "  plt.xlabel('Author')\n",
        "  plt.ylabel('Number of books')\n",
        "  plt.show()\n",
        "#DA VEDERE SE VA BENE, ANCHE FARE UNA FUNZIONE????\n"
      ]
    },
    {
      "cell_type": "code",
      "execution_count": null,
      "metadata": {
        "colab": {
          "base_uri": "https://localhost:8080/",
          "height": 373
        },
        "id": "oQr8jlmoENGh",
        "outputId": "3066002d-48ff-4d07-ed96-2d97f9a4905e"
      },
      "outputs": [
        {
          "ename": "AttributeError",
          "evalue": "ignored",
          "output_type": "error",
          "traceback": [
            "\u001b[0;31m---------------------------------------------------------------------------\u001b[0m",
            "\u001b[0;31mAttributeError\u001b[0m                            Traceback (most recent call last)",
            "\u001b[0;32m<ipython-input-19-066959af2fac>\u001b[0m in \u001b[0;36m<cell line: 12>\u001b[0;34m()\u001b[0m\n\u001b[1;32m     10\u001b[0m \u001b[0mratings_dist\u001b[0m \u001b[0;34m=\u001b[0m \u001b[0;34m(\u001b[0m\u001b[0mdf1\u001b[0m\u001b[0;34m[\u001b[0m\u001b[0;34m[\u001b[0m\u001b[0;34m'rating_dist'\u001b[0m\u001b[0;34m]\u001b[0m\u001b[0;34m]\u001b[0m\u001b[0;34m)\u001b[0m\u001b[0;34m\u001b[0m\u001b[0;34m\u001b[0m\u001b[0m\n\u001b[1;32m     11\u001b[0m \u001b[0;31m#.split('|')\u001b[0m\u001b[0;34m\u001b[0m\u001b[0;34m\u001b[0m\u001b[0m\n\u001b[0;32m---> 12\u001b[0;31m \u001b[0mratings_dist\u001b[0m \u001b[0;34m=\u001b[0m \u001b[0mratings_dist\u001b[0m\u001b[0;34m.\u001b[0m\u001b[0mstr\u001b[0m\u001b[0;34m.\u001b[0m\u001b[0msplit\u001b[0m\u001b[0;34m(\u001b[0m\u001b[0;34m':'\u001b[0m\u001b[0;34m)\u001b[0m\u001b[0;34m\u001b[0m\u001b[0;34m\u001b[0m\u001b[0m\n\u001b[0m\u001b[1;32m     13\u001b[0m \u001b[0mratings_dist\u001b[0m\u001b[0;34m=\u001b[0m\u001b[0;34m[\u001b[0m\u001b[0mint\u001b[0m\u001b[0;34m(\u001b[0m\u001b[0mi\u001b[0m\u001b[0;34m)\u001b[0m \u001b[0;32mfor\u001b[0m \u001b[0mi\u001b[0m \u001b[0;32min\u001b[0m \u001b[0mratings_dist\u001b[0m\u001b[0;34m]\u001b[0m\u001b[0;34m\u001b[0m\u001b[0;34m\u001b[0m\u001b[0m\n\u001b[1;32m     14\u001b[0m \u001b[0mratings_dist_over4\u001b[0m \u001b[0;34m=\u001b[0m \u001b[0mratings_dist\u001b[0m\u001b[0;34m[\u001b[0m\u001b[0;34m:\u001b[0m\u001b[0;36m4\u001b[0m\u001b[0;34m]\u001b[0m\u001b[0;34m\u001b[0m\u001b[0;34m\u001b[0m\u001b[0m\n",
            "\u001b[0;32m/usr/local/lib/python3.10/dist-packages/pandas/core/generic.py\u001b[0m in \u001b[0;36m__getattr__\u001b[0;34m(self, name)\u001b[0m\n\u001b[1;32m   5900\u001b[0m         ):\n\u001b[1;32m   5901\u001b[0m             \u001b[0;32mreturn\u001b[0m \u001b[0mself\u001b[0m\u001b[0;34m[\u001b[0m\u001b[0mname\u001b[0m\u001b[0;34m]\u001b[0m\u001b[0;34m\u001b[0m\u001b[0;34m\u001b[0m\u001b[0m\n\u001b[0;32m-> 5902\u001b[0;31m         \u001b[0;32mreturn\u001b[0m \u001b[0mobject\u001b[0m\u001b[0;34m.\u001b[0m\u001b[0m__getattribute__\u001b[0m\u001b[0;34m(\u001b[0m\u001b[0mself\u001b[0m\u001b[0;34m,\u001b[0m \u001b[0mname\u001b[0m\u001b[0;34m)\u001b[0m\u001b[0;34m\u001b[0m\u001b[0;34m\u001b[0m\u001b[0m\n\u001b[0m\u001b[1;32m   5903\u001b[0m \u001b[0;34m\u001b[0m\u001b[0m\n\u001b[1;32m   5904\u001b[0m     \u001b[0;32mdef\u001b[0m \u001b[0m__setattr__\u001b[0m\u001b[0;34m(\u001b[0m\u001b[0mself\u001b[0m\u001b[0;34m,\u001b[0m \u001b[0mname\u001b[0m\u001b[0;34m:\u001b[0m \u001b[0mstr\u001b[0m\u001b[0;34m,\u001b[0m \u001b[0mvalue\u001b[0m\u001b[0;34m)\u001b[0m \u001b[0;34m->\u001b[0m \u001b[0;32mNone\u001b[0m\u001b[0;34m:\u001b[0m\u001b[0;34m\u001b[0m\u001b[0;34m\u001b[0m\u001b[0m\n",
            "\u001b[0;31mAttributeError\u001b[0m: 'DataFrame' object has no attribute 'str'"
          ]
        }
      ],
      "source": [
        "#Index(['id', 'title', 'authors', 'author_name', 'author_id', 'work_id', 'isbn',\n",
        "      # 'isbn13', 'asin', 'language', 'average_rating', 'rating_dist',\n",
        "      # 'ratings_count', 'text_reviews_count', 'publication_date',\n",
        "      # 'original_publication_date', 'format', 'edition_information',\n",
        "      # 'image_url', 'publisher', 'num_pages', 'series_id', 'series_name',\n",
        "      # 'series_position', 'shelves', 'description']\n",
        "\n",
        "#PUNTO 7\n",
        "#Estimate the probability that a book has over 30% of the ratings above 4.\n",
        "#ratings_dist = (df1[['rating_dist']])\n",
        "#.split('|')                                QUESTA PARTE FATTA SOTTO , CAPIRE COME PRENDERE I RATINGS PER 4 E 5\n",
        "#ratings_dist = ratings_dist.str.split(':')\n",
        "#ratings_dist=[int(i) for i in ratings_dist]\n",
        "ratings_dist_over4 = ratings_dist[:4]\n",
        "\n",
        "count_over4=0\n",
        "list_over4=[]\n",
        "for i in ratings_dist_over4:\n",
        "  count_over4 = count_over4 + i[1] + i[3]\n",
        "  list_over4.append(count_over4)\n",
        "\n",
        "counts_tot=0\n",
        "list_tot=[]\n",
        "for i in ratings_dist:\n",
        "  count_tot = count_tot + i[1] + i[3] + i[5] + i[7] + i[9]\n",
        "  list_tot.append(count_tot)\n",
        "\n",
        "prob_list=[]\n",
        "for i in list_over4:\n",
        "  for j in list_tot:\n",
        "    prob_k = (i/j)*100\n",
        "    prob_list.append(prob_k)\n",
        "\n",
        "k_over30 = 0\n",
        "for i in prob_list:\n",
        "  if i>=30:\n",
        "    k_over30 = k_over30 + 1\n",
        "\n",
        "prob_final = k_over30 / len(prob_list)\n",
        "print(\"The probability that a book has over 30% of the ratings above 4 is: \", prob_final)\n",
        "\n",
        "#Estimate the probability that an author publishes a new book within two years\n",
        "#from its last work.\n"
      ]
    },
    {
      "cell_type": "code",
      "execution_count": null,
      "metadata": {
        "id": "DEELBUoEklG6"
      },
      "outputs": [],
      "source": [
        "ratings_dist = df1['rating_dist'].tolist()\n",
        "ratings_list=[]\n",
        "for i in ratings_dist:\n",
        "  k = i.split('|')\n",
        "  ratings_list.append(k)\n",
        "\n",
        "#print(ratings_list[:10])\n",
        "ratings_list2 = [[i.split(':') for i in j] for j in ratings_list]\n",
        "#print(ratings_list2[:10])\n",
        "\n",
        "#Transforming into dataframe\n",
        "df_ratings = pd.DataFrame(ratings_list2)\n",
        "#print(df_ratings[:10])"
      ]
    },
    {
      "cell_type": "code",
      "execution_count": null,
      "metadata": {
        "id": "o0HtdUbbklL5"
      },
      "outputs": [],
      "source": []
    },
    {
      "cell_type": "code",
      "execution_count": null,
      "metadata": {
        "id": "afV09SHdklPI"
      },
      "outputs": [],
      "source": []
    },
    {
      "cell_type": "code",
      "execution_count": null,
      "metadata": {
        "id": "u6YvDGESklU9"
      },
      "outputs": [],
      "source": []
    },
    {
      "cell_type": "code",
      "execution_count": null,
      "metadata": {
        "id": "-tQs0_RsklXN"
      },
      "outputs": [],
      "source": []
    },
    {
      "cell_type": "code",
      "execution_count": null,
      "metadata": {
        "id": "3q0HowOyklZZ"
      },
      "outputs": [],
      "source": []
    },
    {
      "cell_type": "code",
      "execution_count": null,
      "metadata": {
        "id": "7cQ7spxbklb9"
      },
      "outputs": [],
      "source": []
    },
    {
      "cell_type": "code",
      "execution_count": null,
      "metadata": {
        "id": "JJ7D6dVgkles"
      },
      "outputs": [],
      "source": []
    },
    {
      "cell_type": "code",
      "execution_count": null,
      "metadata": {
        "id": "46cdDw_nklg-"
      },
      "outputs": [],
      "source": []
    },
    {
      "cell_type": "code",
      "execution_count": null,
      "metadata": {
        "id": "Ob2Xz2lrklju"
      },
      "outputs": [],
      "source": []
    },
    {
      "cell_type": "code",
      "execution_count": null,
      "metadata": {
        "id": "94JdOszSklno"
      },
      "outputs": [],
      "source": []
    }
  ],
  "metadata": {
    "colab": {
      "provenance": []
    },
    "kernelspec": {
      "display_name": "Python 3 (ipykernel)",
      "language": "python",
      "name": "python3"
    },
    "language_info": {
      "codemirror_mode": {
        "name": "ipython",
        "version": 3
      },
      "file_extension": ".py",
      "mimetype": "text/x-python",
      "name": "python",
      "nbconvert_exporter": "python",
      "pygments_lexer": "ipython3",
      "version": "3.11.4"
    }
  },
  "nbformat": 4,
  "nbformat_minor": 0
}