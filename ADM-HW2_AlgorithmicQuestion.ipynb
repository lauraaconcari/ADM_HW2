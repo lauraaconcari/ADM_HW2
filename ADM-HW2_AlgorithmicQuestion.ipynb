{
 "cells": [
  {
   "cell_type": "markdown",
   "metadata": {},
   "source": [
    "# Algorithmic Question"
   ]
  },
  {
   "cell_type": "markdown",
   "metadata": {},
   "source": [
    "## 1. Implement a code to answer the problem above"
   ]
  },
  {
   "cell_type": "code",
   "execution_count": null,
   "metadata": {},
   "outputs": [],
   "source": [
    "from collections import deque\n",
    "d = deque()\n",
    "i=0\n",
    "n=int(input())\n",
    "for _ in range(n):\n",
    "        command = input().split()\n",
    "        if command[0]=='R':\n",
    "            d.append(command[1])\n",
    "        elif command[0]=='L':\n",
    "            d.appendleft(command[1])\n",
    "        elif command[0]=='?':\n",
    "            while d[i]!=command[1]:\n",
    "                i+=1\n",
    "            print(min(i,len(d)-i-1))"
   ]
  },
  {
   "cell_type": "markdown",
   "metadata": {},
   "source": [
    "## 2. Ask ChatGPT or any other LLM chatbot tool to check your code's time complexity (the Big O notation). Do you believe this is correct? How can you double-check it? Elaborate about your answer."
   ]
  },
  {
   "cell_type": "markdown",
   "metadata": {},
   "source": [
    "**The answer from ChatGPT:**\n",
    "\n",
    "To analyze the time complexity of this code, let's break it down step by step:\n",
    "\n",
    "Initializing d = deque() takes constant time, O(1).\n",
    "\n",
    "Initializing i = 0 takes constant time, O(1).\n",
    "\n",
    "Parsing the integer n from the user input using int(input()) also takes constant time, O(1).\n",
    "\n",
    "The for loop runs n times, and for each iteration, we perform the following operations:\n",
    "\n",
    "a. Parsing the input string and splitting it using input().split() takes O(M) time, where M is the length of the input string.\n",
    "\n",
    "b. The if-elif-elif block performs one of three operations based on the value of command[0], and these operations have O(1) time complexity.\n",
    "\n",
    "c. In the case of the 'R' and 'L' commands, we perform deque operations (d.append() or d.appendleft()), which are generally considered to be O(1) operations.\n",
    "\n",
    "d. In the case of the '?' command, there is a while loop that iterates through the deque elements. In the worst case, it might iterate through all n elements if the target element is not found. The while loop has a time complexity of O(n) in the worst case.\n",
    "\n",
    "e. Printing min(i, len(d) - i - 1) takes constant time, O(1).\n",
    "\n",
    "In the worst case, when all '?' commands require iterating through the entire deque, the time complexity of this code becomes O(n^2). This is because for each of the n '?' commands, we might potentially iterate through the entire deque of up to n elements.\n",
    "\n",
    "However, in practice, the actual time complexity might be lower if not all '?' commands require iterating through the entire deque. If you can make any assumptions about the input and the frequency of '?' commands, you might be able to optimize the code further.\n",
    "\n",
    "**Do you believe this is correct? How can you double-check it?**\n",
    "\n",
    "The answer has few minor mistakes in the explanation but they are not relevant enough to invalidate the reasoning and the final answer, which are correct.\n",
    "\n",
    "The mistakes:\n",
    "\n",
    "a.the input has constant length of 2 (ChatGPT didn't have access to the problem introduction)\n",
    "\n",
    "d.in the worst case, it might iterate through all **n-1** elements if the target element is **the furthest to the right**. (This mistakes were made because ChatGPT didn't know that it is impossible to have a ? command without having the book inserted in the shelf before). The while loop has still a time complexity of O(n)\n",
    "So, even if some assumptions are incorrect, the time complexity of this code becomes O(n^2).\n",
    "\n",
    "In order to double-check we can analyze the worst-case scenario and show that the number of steps is always lower of *c*n^2 for some real *c*, which is exactly what ChatGPT did. \n",
    "\n"
   ]
  },
  {
   "cell_type": "markdown",
   "metadata": {},
   "source": [
    "## 3. Is the algorithm proposed in (1.) the optimal one to produce the required output? If not, can you suggest a better algorithm to perform the same task?"
   ]
  },
  {
   "cell_type": "markdown",
   "metadata": {},
   "source": [
    "If you want to improve the searching efficiency for the '?' command, you can use a dictionary (hash table) to store the elements in the deque along with their positions. Here's an alternative code that achieves this and has better time complexity for searching:\n",
    "\n"
   ]
  },
  {
   "cell_type": "code",
   "execution_count": null,
   "metadata": {},
   "outputs": [],
   "source": [
    "from collections import deque\n",
    "\n",
    "d = deque()\n",
    "element_positions = {}  # A dictionary to store the positions of elements\n",
    "\n",
    "n = int(input())\n",
    "\n",
    "for i in range(n):\n",
    "    command, value = input().split()\n",
    "    \n",
    "    if command == 'R':\n",
    "        d.append(value)\n",
    "        element_positions[value] = len(d) - 1\n",
    "    elif command == 'L':\n",
    "        d.appendleft(value)\n",
    "        element_positions[value] = 0\n",
    "    elif command == '?':\n",
    "            position = element_positions[value]\n",
    "            print(min(position, len(d) - 1 - position))"
   ]
  },
  {
   "cell_type": "markdown",
   "metadata": {},
   "source": [
    "\n",
    "\n",
    "In this code:\n",
    "\n",
    "We use a dictionary called element_positions to keep track of the positions of elements in the deque. When adding elements to the deque, we update their positions in the dictionary.\n",
    "\n",
    "When the '?' command is issued, we can directly access its position in O(1) time. In this case, the complexity of the whole code drops to O(n) \n",
    "\n",
    "This code provides a more efficient way to search for elements and should work well for scenarios where you need to frequently search for elements in the deque."
   ]
  }
 ],
 "metadata": {
  "kernelspec": {
   "display_name": "Python 3",
   "language": "python",
   "name": "python3"
  },
  "language_info": {
   "codemirror_mode": {
    "name": "ipython",
    "version": 3
   },
   "file_extension": ".py",
   "mimetype": "text/x-python",
   "name": "python",
   "nbconvert_exporter": "python",
   "pygments_lexer": "ipython3",
   "version": "3.11.6"
  }
 },
 "nbformat": 4,
 "nbformat_minor": 2
}
