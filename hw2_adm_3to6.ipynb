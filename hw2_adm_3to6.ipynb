{
  "cells": [
    {
      "cell_type": "code",
      "execution_count": 2,
      "metadata": {
        "id": "ypXG24fhA6OJ"
      },
      "outputs": [],
      "source": [
        "import pandas as pd"
      ]
    },
    {
      "cell_type": "code",
      "execution_count": 3,
      "metadata": {
        "colab": {
          "base_uri": "https://localhost:8080/"
        },
        "id": "WqqRcTOkAIrF",
        "outputId": "55c307de-163b-40be-d9ad-56cc1fd97f82"
      },
      "outputs": [
        {
          "name": "stdout",
          "output_type": "stream",
          "text": [
            "--2023-11-01 09:00:57--  https://sapienza2023adm.s3.eu-south-1.amazonaws.com/lighter_authors.json\n",
            "Resolving sapienza2023adm.s3.eu-south-1.amazonaws.com (sapienza2023adm.s3.eu-south-1.amazonaws.com)... 52.95.153.26, 52.95.152.26\n",
            "Connecting to sapienza2023adm.s3.eu-south-1.amazonaws.com (sapienza2023adm.s3.eu-south-1.amazonaws.com)|52.95.153.26|:443... connected.\n",
            "HTTP request sent, awaiting response... 200 OK\n",
            "Length: 549013002 (524M) [application/json]\n",
            "Saving to: ‘/content/drive/MyDrive/LaMiaCartellaDataset/lighter_authors.json’\n",
            "\n",
            "lighter_authors.jso 100%[===================>] 523.58M  32.5MB/s    in 17s     \n",
            "\n",
            "2023-11-01 09:01:14 (31.1 MB/s) - ‘/content/drive/MyDrive/LaMiaCartellaDataset/lighter_authors.json’ saved [549013002/549013002]\n",
            "\n"
          ]
        }
      ],
      "source": [
        "!wget -P /content/drive/MyDrive/LaMiaCartellaDataset https://sapienza2023adm.s3.eu-south-1.amazonaws.com/lighter_authors.json"
      ]
    },
    {
      "cell_type": "code",
      "execution_count": 1,
      "metadata": {
        "id": "NWKdMmZRApyT"
      },
      "outputs": [],
      "source": [
        "filename0 = \"/content/drive/MyDrive/LaMiaCartellaDataset/lighter_authors.json\""
      ]
    },
    {
      "cell_type": "code",
      "execution_count": 4,
      "metadata": {
        "id": "-JIvXgxUEyLp"
      },
      "outputs": [],
      "source": [
        "# Read the data\n",
        "df_chunks = pd.read_json(filename0, lines=True, dtype={'ratings_count': 'int32', 'text_reviews_count':'int32', 'works_count':'int32', 'id':'int32', 'fans_count':'int32', 'name':'string', 'gender':'string', 'image_url':'string', 'average_rating':'float16', 'about':'string'}, chunksize=10000)\n",
        "#E' UN ITERATORE CHE MI LEGGE I DATI A BLOCCHI\n",
        "\n",
        "# Create an empty DataFrame to store the results\n",
        "df = pd.DataFrame()\n",
        "\n",
        "# Loop through each chunk and append it to the result DataFrame\n",
        "for chunk in df_chunks:\n",
        "    df = pd.concat([df, chunk], ignore_index=True)"
      ]
    },
    {
      "cell_type": "code",
      "execution_count": null,
      "metadata": {
        "colab": {
          "base_uri": "https://localhost:8080/"
        },
        "id": "oSm9IKjhEyRE",
        "outputId": "3b71a2f0-f790-4376-9acf-4405af0b5af7"
      },
      "outputs": [
        {
          "data": {
            "text/plain": [
              "Index(['ratings_count', 'average_rating', 'text_reviews_count', 'work_ids',\n",
              "       'book_ids', 'works_count', 'id', 'name', 'gender', 'image_url', 'about',\n",
              "       'fans_count'],\n",
              "      dtype='object')"
            ]
          },
          "execution_count": 7,
          "metadata": {},
          "output_type": "execute_result"
        }
      ],
      "source": [
        "df.columns"
      ]
    },
    {
      "cell_type": "code",
      "execution_count": null,
      "metadata": {
        "colab": {
          "base_uri": "https://localhost:8080/"
        },
        "id": "4zH0NNO8EyTc",
        "outputId": "a743bc11-cf91-4e94-a05e-7ef67e08cdf8"
      },
      "outputs": [
        {
          "name": "stdout",
          "output_type": "stream",
          "text": [
            "<class 'pandas.core.frame.DataFrame'>\n",
            "RangeIndex: 351767 entries, 0 to 351766\n",
            "Data columns (total 12 columns):\n",
            " #   Column              Non-Null Count   Dtype  \n",
            "---  ------              --------------   -----  \n",
            " 0   ratings_count       351767 non-null  int32  \n",
            " 1   average_rating      351767 non-null  float16\n",
            " 2   text_reviews_count  351767 non-null  int32  \n",
            " 3   work_ids            351767 non-null  object \n",
            " 4   book_ids            351767 non-null  object \n",
            " 5   works_count         351767 non-null  int32  \n",
            " 6   id                  351767 non-null  int32  \n",
            " 7   name                351767 non-null  string \n",
            " 8   gender              351767 non-null  string \n",
            " 9   image_url           351767 non-null  string \n",
            " 10  about               351767 non-null  string \n",
            " 11  fans_count          351767 non-null  int32  \n",
            "dtypes: float16(1), int32(5), object(2), string(4)\n",
            "memory usage: 23.5+ MB\n"
          ]
        }
      ],
      "source": [
        "df.info() #35mila x 12"
      ]
    },
    {
      "cell_type": "code",
      "execution_count": 6,
      "metadata": {
        "colab": {
          "base_uri": "https://localhost:8080/"
        },
        "id": "60sFs3XBFZA2",
        "outputId": "391f0f14-f24c-4e29-8a2d-682af13f87f8"
      },
      "outputs": [
        {
          "name": "stdout",
          "output_type": "stream",
          "text": [
            "--2023-11-02 11:02:58--  https://sapienza2023adm.s3.eu-south-1.amazonaws.com/lighter_books.json\n",
            "Resolving sapienza2023adm.s3.eu-south-1.amazonaws.com (sapienza2023adm.s3.eu-south-1.amazonaws.com)... 52.95.152.12, 52.95.151.38\n",
            "Connecting to sapienza2023adm.s3.eu-south-1.amazonaws.com (sapienza2023adm.s3.eu-south-1.amazonaws.com)|52.95.152.12|:443... connected.\n",
            "HTTP request sent, awaiting response... 200 OK\n",
            "Length: 16123393395 (15G) [application/json]\n",
            "Saving to: ‘/content/drive/MyDrive/LaMiaCartellaDataset/lighter_books.json’\n",
            "\n",
            "lighter_books.json  100%[===================>]  15.02G  29.5MB/s    in 10m 48s \n",
            "\n",
            "2023-11-02 11:13:47 (23.7 MB/s) - ‘/content/drive/MyDrive/LaMiaCartellaDataset/lighter_books.json’ saved [16123393395/16123393395]\n",
            "\n"
          ]
        }
      ],
      "source": [
        "!wget -P /content/drive/MyDrive/LaMiaCartellaDataset https://sapienza2023adm.s3.eu-south-1.amazonaws.com/lighter_books.json"
      ]
    },
    {
      "cell_type": "code",
      "execution_count": 4,
      "metadata": {
        "id": "qKmQcUzfmgoE"
      },
      "outputs": [],
      "source": [
        "filename1 = \"/content/drive/MyDrive/LaMiaCartellaDataset/lighter_books.json\"\n",
        "import pandas as pd"
      ]
    },
    {
      "cell_type": "code",
      "execution_count": 5,
      "metadata": {
        "colab": {
          "base_uri": "https://localhost:8080/",
          "height": 343
        },
        "id": "PLyFZ0i8EyW-",
        "outputId": "831c3801-cb16-440b-c7d5-1bd780b83f0e"
      },
      "outputs": [
        {
          "ename": "FileNotFoundError",
          "evalue": "ignored",
          "output_type": "error",
          "traceback": [
            "\u001b[0;31m---------------------------------------------------------------------------\u001b[0m",
            "\u001b[0;31mFileNotFoundError\u001b[0m                         Traceback (most recent call last)",
            "\u001b[0;32m<ipython-input-5-8e17878b3267>\u001b[0m in \u001b[0;36m<cell line: 1>\u001b[0;34m()\u001b[0m\n\u001b[0;32m----> 1\u001b[0;31m \u001b[0md\u001b[0m \u001b[0;34m=\u001b[0m \u001b[0mpd\u001b[0m\u001b[0;34m.\u001b[0m\u001b[0mread_json\u001b[0m\u001b[0;34m(\u001b[0m\u001b[0mfilename1\u001b[0m\u001b[0;34m,\u001b[0m \u001b[0mlines\u001b[0m\u001b[0;34m=\u001b[0m\u001b[0;32mTrue\u001b[0m\u001b[0;34m,\u001b[0m \u001b[0mnrows\u001b[0m\u001b[0;34m=\u001b[0m\u001b[0;36m10\u001b[0m\u001b[0;34m)\u001b[0m\u001b[0;34m\u001b[0m\u001b[0;34m\u001b[0m\u001b[0m\n\u001b[0m\u001b[1;32m      2\u001b[0m \u001b[0mprint\u001b[0m\u001b[0;34m(\u001b[0m\u001b[0md\u001b[0m\u001b[0;34m.\u001b[0m\u001b[0mcolumns\u001b[0m\u001b[0;34m)\u001b[0m\u001b[0;34m\u001b[0m\u001b[0;34m\u001b[0m\u001b[0m\n",
            "\u001b[0;32m/usr/local/lib/python3.10/dist-packages/pandas/util/_decorators.py\u001b[0m in \u001b[0;36mwrapper\u001b[0;34m(*args, **kwargs)\u001b[0m\n\u001b[1;32m    209\u001b[0m                 \u001b[0;32melse\u001b[0m\u001b[0;34m:\u001b[0m\u001b[0;34m\u001b[0m\u001b[0;34m\u001b[0m\u001b[0m\n\u001b[1;32m    210\u001b[0m                     \u001b[0mkwargs\u001b[0m\u001b[0;34m[\u001b[0m\u001b[0mnew_arg_name\u001b[0m\u001b[0;34m]\u001b[0m \u001b[0;34m=\u001b[0m \u001b[0mnew_arg_value\u001b[0m\u001b[0;34m\u001b[0m\u001b[0;34m\u001b[0m\u001b[0m\n\u001b[0;32m--> 211\u001b[0;31m             \u001b[0;32mreturn\u001b[0m \u001b[0mfunc\u001b[0m\u001b[0;34m(\u001b[0m\u001b[0;34m*\u001b[0m\u001b[0margs\u001b[0m\u001b[0;34m,\u001b[0m \u001b[0;34m**\u001b[0m\u001b[0mkwargs\u001b[0m\u001b[0;34m)\u001b[0m\u001b[0;34m\u001b[0m\u001b[0;34m\u001b[0m\u001b[0m\n\u001b[0m\u001b[1;32m    212\u001b[0m \u001b[0;34m\u001b[0m\u001b[0m\n\u001b[1;32m    213\u001b[0m         \u001b[0;32mreturn\u001b[0m \u001b[0mcast\u001b[0m\u001b[0;34m(\u001b[0m\u001b[0mF\u001b[0m\u001b[0;34m,\u001b[0m \u001b[0mwrapper\u001b[0m\u001b[0;34m)\u001b[0m\u001b[0;34m\u001b[0m\u001b[0;34m\u001b[0m\u001b[0m\n",
            "\u001b[0;32m/usr/local/lib/python3.10/dist-packages/pandas/util/_decorators.py\u001b[0m in \u001b[0;36mwrapper\u001b[0;34m(*args, **kwargs)\u001b[0m\n\u001b[1;32m    329\u001b[0m                     \u001b[0mstacklevel\u001b[0m\u001b[0;34m=\u001b[0m\u001b[0mfind_stack_level\u001b[0m\u001b[0;34m(\u001b[0m\u001b[0;34m)\u001b[0m\u001b[0;34m,\u001b[0m\u001b[0;34m\u001b[0m\u001b[0;34m\u001b[0m\u001b[0m\n\u001b[1;32m    330\u001b[0m                 )\n\u001b[0;32m--> 331\u001b[0;31m             \u001b[0;32mreturn\u001b[0m \u001b[0mfunc\u001b[0m\u001b[0;34m(\u001b[0m\u001b[0;34m*\u001b[0m\u001b[0margs\u001b[0m\u001b[0;34m,\u001b[0m \u001b[0;34m**\u001b[0m\u001b[0mkwargs\u001b[0m\u001b[0;34m)\u001b[0m\u001b[0;34m\u001b[0m\u001b[0;34m\u001b[0m\u001b[0m\n\u001b[0m\u001b[1;32m    332\u001b[0m \u001b[0;34m\u001b[0m\u001b[0m\n\u001b[1;32m    333\u001b[0m         \u001b[0;31m# error: \"Callable[[VarArg(Any), KwArg(Any)], Any]\" has no\u001b[0m\u001b[0;34m\u001b[0m\u001b[0;34m\u001b[0m\u001b[0m\n",
            "\u001b[0;32m/usr/local/lib/python3.10/dist-packages/pandas/io/json/_json.py\u001b[0m in \u001b[0;36mread_json\u001b[0;34m(path_or_buf, orient, typ, dtype, convert_axes, convert_dates, keep_default_dates, numpy, precise_float, date_unit, encoding, encoding_errors, lines, chunksize, compression, nrows, storage_options)\u001b[0m\n\u001b[1;32m    731\u001b[0m         \u001b[0mconvert_axes\u001b[0m \u001b[0;34m=\u001b[0m \u001b[0;32mTrue\u001b[0m\u001b[0;34m\u001b[0m\u001b[0;34m\u001b[0m\u001b[0m\n\u001b[1;32m    732\u001b[0m \u001b[0;34m\u001b[0m\u001b[0m\n\u001b[0;32m--> 733\u001b[0;31m     json_reader = JsonReader(\n\u001b[0m\u001b[1;32m    734\u001b[0m         \u001b[0mpath_or_buf\u001b[0m\u001b[0;34m,\u001b[0m\u001b[0;34m\u001b[0m\u001b[0;34m\u001b[0m\u001b[0m\n\u001b[1;32m    735\u001b[0m         \u001b[0morient\u001b[0m\u001b[0;34m=\u001b[0m\u001b[0morient\u001b[0m\u001b[0;34m,\u001b[0m\u001b[0;34m\u001b[0m\u001b[0;34m\u001b[0m\u001b[0m\n",
            "\u001b[0;32m/usr/local/lib/python3.10/dist-packages/pandas/io/json/_json.py\u001b[0m in \u001b[0;36m__init__\u001b[0;34m(self, filepath_or_buffer, orient, typ, dtype, convert_axes, convert_dates, keep_default_dates, numpy, precise_float, date_unit, encoding, lines, chunksize, compression, nrows, storage_options, encoding_errors)\u001b[0m\n\u001b[1;32m    816\u001b[0m                 \u001b[0;32mraise\u001b[0m \u001b[0mValueError\u001b[0m\u001b[0;34m(\u001b[0m\u001b[0;34m\"nrows can only be passed if lines=True\"\u001b[0m\u001b[0;34m)\u001b[0m\u001b[0;34m\u001b[0m\u001b[0;34m\u001b[0m\u001b[0m\n\u001b[1;32m    817\u001b[0m \u001b[0;34m\u001b[0m\u001b[0m\n\u001b[0;32m--> 818\u001b[0;31m         \u001b[0mdata\u001b[0m \u001b[0;34m=\u001b[0m \u001b[0mself\u001b[0m\u001b[0;34m.\u001b[0m\u001b[0m_get_data_from_filepath\u001b[0m\u001b[0;34m(\u001b[0m\u001b[0mfilepath_or_buffer\u001b[0m\u001b[0;34m)\u001b[0m\u001b[0;34m\u001b[0m\u001b[0;34m\u001b[0m\u001b[0m\n\u001b[0m\u001b[1;32m    819\u001b[0m         \u001b[0mself\u001b[0m\u001b[0;34m.\u001b[0m\u001b[0mdata\u001b[0m \u001b[0;34m=\u001b[0m \u001b[0mself\u001b[0m\u001b[0;34m.\u001b[0m\u001b[0m_preprocess_data\u001b[0m\u001b[0;34m(\u001b[0m\u001b[0mdata\u001b[0m\u001b[0;34m)\u001b[0m\u001b[0;34m\u001b[0m\u001b[0;34m\u001b[0m\u001b[0m\n\u001b[1;32m    820\u001b[0m \u001b[0;34m\u001b[0m\u001b[0m\n",
            "\u001b[0;32m/usr/local/lib/python3.10/dist-packages/pandas/io/json/_json.py\u001b[0m in \u001b[0;36m_get_data_from_filepath\u001b[0;34m(self, filepath_or_buffer)\u001b[0m\n\u001b[1;32m    872\u001b[0m             \u001b[0;32mand\u001b[0m \u001b[0;32mnot\u001b[0m \u001b[0mfile_exists\u001b[0m\u001b[0;34m(\u001b[0m\u001b[0mfilepath_or_buffer\u001b[0m\u001b[0;34m)\u001b[0m\u001b[0;34m\u001b[0m\u001b[0;34m\u001b[0m\u001b[0m\n\u001b[1;32m    873\u001b[0m         ):\n\u001b[0;32m--> 874\u001b[0;31m             \u001b[0;32mraise\u001b[0m \u001b[0mFileNotFoundError\u001b[0m\u001b[0;34m(\u001b[0m\u001b[0;34mf\"File {filepath_or_buffer} does not exist\"\u001b[0m\u001b[0;34m)\u001b[0m\u001b[0;34m\u001b[0m\u001b[0;34m\u001b[0m\u001b[0m\n\u001b[0m\u001b[1;32m    875\u001b[0m \u001b[0;34m\u001b[0m\u001b[0m\n\u001b[1;32m    876\u001b[0m         \u001b[0;32mreturn\u001b[0m \u001b[0mfilepath_or_buffer\u001b[0m\u001b[0;34m\u001b[0m\u001b[0;34m\u001b[0m\u001b[0m\n",
            "\u001b[0;31mFileNotFoundError\u001b[0m: File /content/drive/MyDrive/LaMiaCartellaDataset/lighter_books.json does not exist"
          ]
        }
      ],
      "source": [
        "d = pd.read_json(filename1, lines=True, nrows=10)\n",
        "print(d.columns)"
      ]
    },
    {
      "cell_type": "code",
      "execution_count": 8,
      "metadata": {
        "id": "QqOki_w9EyOQ"
      },
      "outputs": [],
      "source": [
        "# Read the data\n",
        "df_chunks = pd.read_json(filename1, lines=True, chunksize=200000)\n",
        "\n",
        "# Create an empty DataFrame to store the results\n",
        "df1 = pd.DataFrame()\n",
        "\n",
        "# Loop through each chunk and append it to the result DataFrame\n",
        "for chunk in df_chunks:\n",
        "  chunk = chunk[['id', 'title', 'original_publication_date', 'num_pages',\n",
        "                 'series_name', 'author_name', 'author_id', 'average_rating', 'format',\n",
        "                 'rating_dist', 'ratings_count', 'text_reviews_count', 'language']]\n",
        "  df1 = pd.concat([df1, chunk], ignore_index=True) #7027431"
      ]
    },
    {
      "cell_type": "code",
      "execution_count": 6,
      "metadata": {
        "id": "AW1QnL97CP5O"
      },
      "outputs": [],
      "source": [
        "#We create two different lists, date with the entire original publication date in tuples, and date_y with just the year.\n",
        "#The problem is that for some books the month is missing.\n",
        "date = []\n",
        "date_y=[]\n",
        "date_m=[]\n",
        "for i in df1['original_publication_date']:\n",
        "  dd=tuple(i.split('-'))\n",
        "  date.append(dd) #not necessary useful\n",
        "  date_y.append(i.split('-')[0])\n",
        "\n",
        "  #Some books don't have the specified month of publication date, but just the year.\n",
        "  #So we create a list for the months and when it is not specified we insert 0.\n",
        "  if len(i.split('-'))>1:\n",
        "    date_m.append(i.split('-')[1])\n",
        "  else:\n",
        "    date_m.append(0)\n",
        "\n",
        "date_y = ['0' if i=='' else i for i in date_y]\n",
        "date_y = [int(i) for i in date_y]\n",
        "date_m = [int(i) for i in date_m]\n",
        "\n",
        "#We add the column with the years and the months\n",
        "df1['publication_year']=date_y\n",
        "df1['publication_month']=date_m\n",
        "#print((df1['publication_year']==0).sum())"
      ]
    },
    {
      "cell_type": "code",
      "execution_count": 5,
      "metadata": {
        "colab": {
          "base_uri": "https://localhost:8080/",
          "height": 249
        },
        "id": "AaVTznadL_ng",
        "outputId": "0da438ce-2fd1-4c7e-8a30-016166c89d80"
      },
      "outputs": [
        {
          "ename": "NameError",
          "evalue": "ignored",
          "output_type": "error",
          "traceback": [
            "\u001b[0;31m---------------------------------------------------------------------------\u001b[0m",
            "\u001b[0;31mNameError\u001b[0m                                 Traceback (most recent call last)",
            "\u001b[0;32m<ipython-input-5-612efe135284>\u001b[0m in \u001b[0;36m<cell line: 2>\u001b[0;34m()\u001b[0m\n\u001b[1;32m      1\u001b[0m \u001b[0;31m#Changing the gender into 3 categories:\u001b[0m\u001b[0;34m\u001b[0m\u001b[0;34m\u001b[0m\u001b[0m\n\u001b[0;32m----> 2\u001b[0;31m \u001b[0mgenders\u001b[0m \u001b[0;34m=\u001b[0m \u001b[0mdf\u001b[0m\u001b[0;34m[\u001b[0m\u001b[0;34m'gender'\u001b[0m\u001b[0;34m]\u001b[0m\u001b[0;34m.\u001b[0m\u001b[0munique\u001b[0m\u001b[0;34m(\u001b[0m\u001b[0;34m)\u001b[0m\u001b[0;34m\u001b[0m\u001b[0;34m\u001b[0m\u001b[0m\n\u001b[0m\u001b[1;32m      3\u001b[0m \u001b[0;34m\u001b[0m\u001b[0m\n\u001b[1;32m      4\u001b[0m \u001b[0;31m# Define category mappings\u001b[0m\u001b[0;34m\u001b[0m\u001b[0;34m\u001b[0m\u001b[0m\n\u001b[1;32m      5\u001b[0m category_mapping = {\n",
            "\u001b[0;31mNameError\u001b[0m: name 'df' is not defined"
          ]
        }
      ],
      "source": [
        "#Changing the gender into 3 categories:\n",
        "genders = df['gender'].unique()\n",
        "\n",
        "# Define category mappings\n",
        "category_mapping = {\n",
        "    # Male Genders\n",
        "    'Male': {\n",
        "        'Male', 'male', 'man', 'Man'\n",
        "    },\n",
        "\n",
        "    # Female Genders\n",
        "    'Female': {\n",
        "        'Female', 'Woman', 'Femme', 'She/Her/Hers', 'female'\n",
        "    },\n",
        "\n",
        "    # Non-binary Genders\n",
        "    'Queer': {\n",
        "        'Non-binary', 'Non-binary (multiple instances)', 'Non binary', 'Non-Binary', 'Non-binary Woman',\n",
        "        'Nonbinary', 'Nonbinary Woman', 'Nonbinary genderfluid', 'Non-binary genderqueer', 'Non-binary trans guy',\n",
        "        'Non-binary/transmasculine', 'Non-binary Transgender', 'Non-Binary Transgender', 'Non binary trans person', 'Non binary trans woman',\n",
        "        'Non-binary Transmasculine', 'Non-Binary Woman', 'Bigender', 'Bigender (female and agender)', 'Two-spirit', 'Agender',\n",
        "        'Genderqueer', 'Genderqueer transfemme', 'Genderqueer Femme', 'Genderqueer genderfluid', 'Genderqueer non-binary',\n",
        "        'Genderqueer transfeminine', 'Gender Non-Conforming', 'Genderless', 'Androgynous', 'Transmasculine non-binary', 'Transfemale', 'Transgender female',\n",
        "        'Transfeminine', 'Trans-female', 'Transwoman', 'Trans woman', 'Trans man', 'Male (FtM)', 'Trans-Male', 'Transman',\n",
        "        'Transmasculine', 'Trans male', 'Transgender male', 'FtM',\n",
        "    },\n",
        "}\n",
        "\n",
        "# Categorize genders\n",
        "categorized_genders = {}\n",
        "for category, values in category_mapping.items():\n",
        "    categorized_genders[category] = set(filter(lambda x: x in values, genders))\n",
        "\n",
        "def update_gender(gender):\n",
        "    for new_gender, mappings in category_mapping.items():\n",
        "        if gender in mappings:\n",
        "            return new_gender\n",
        "    return 'Other'  # Assign to 'Other' if not found in any category\n",
        "\n",
        "# Apply the custom function to update the genders\n",
        "df['gender'] = df['gender'].apply(update_gender)"
      ]
    },
    {
      "cell_type": "code",
      "execution_count": null,
      "metadata": {
        "id": "XVGqyqs9kkuu"
      },
      "outputs": [],
      "source": [
        "#PUNTO 3\n",
        "import pandas as pd\n",
        "from statistics import mode\n",
        "\n",
        "def info_year(year):\n",
        "  books = df1[df1['publication_year']==year]\n",
        "\n",
        "  #The number of books published that year:\n",
        "  published_b = len(books.index)\n",
        "\n",
        "  #The total number of pages written that year:\n",
        "  books['num_pages']= books['num_pages'].replace('', '0')\n",
        "  books['num_pages']= books['num_pages'].astype(int)\n",
        "  num_pages = books['num_pages'].sum()\n",
        "\n",
        "  #The most prolific month of that year:\n",
        "  months = books['publication_month']\n",
        "  months_small = []\n",
        "  for i in months: #Eliminating the 0 that are the unspecified months\n",
        "    while i!=0:\n",
        "      months_small.append(i)\n",
        "      break\n",
        "  if months_small:\n",
        "    frequent_month = mode(months_small)\n",
        "  else: #In the case this list is empty, it means that the months were all 0 (not specified)\n",
        "    frequent_month =\"There isn't enough information to find the most prolific month of this year\"\n",
        "\n",
        "  #The longest book written that year:\n",
        "  index_max = books['num_pages'].idxmax() #Estracting the index of the maximum\n",
        "  longest_b = books.loc[index_max, 'title']\n",
        "\n",
        "\n",
        "  return(published_b, num_pages, frequent_month, longest_b)\n",
        "\n",
        "#res=info_year(2003) #FUNZIONA però da SettingWithCopyWarning\n",
        "#print(\"Le info dell'anno 2003 sono: \", res)\n"
      ]
    },
    {
      "cell_type": "code",
      "execution_count": null,
      "metadata": {
        "colab": {
          "base_uri": "https://localhost:8080/"
        },
        "id": "Yi4fZgUXqwqt",
        "outputId": "69346499-1fd6-4bd0-8683-c000d6ddca76"
      },
      "outputs": [
        {
          "name": "stderr",
          "output_type": "stream",
          "text": [
            "<ipython-input-43-f7badb96595c>:12: SettingWithCopyWarning: \n",
            "A value is trying to be set on a copy of a slice from a DataFrame.\n",
            "Try using .loc[row_indexer,col_indexer] = value instead\n",
            "\n",
            "See the caveats in the documentation: https://pandas.pydata.org/pandas-docs/stable/user_guide/indexing.html#returning-a-view-versus-a-copy\n",
            "  books['num_pages']= books['num_pages'].replace('', '0')\n",
            "<ipython-input-43-f7badb96595c>:13: SettingWithCopyWarning: \n",
            "A value is trying to be set on a copy of a slice from a DataFrame.\n",
            "Try using .loc[row_indexer,col_indexer] = value instead\n",
            "\n",
            "See the caveats in the documentation: https://pandas.pydata.org/pandas-docs/stable/user_guide/indexing.html#returning-a-view-versus-a-copy\n",
            "  books['num_pages']= books['num_pages'].astype(int)\n"
          ]
        },
        {
          "name": "stdout",
          "output_type": "stream",
          "text": [
            "First ten years registered:\n",
            "   years  published_book   num_pages frequent_month  \\\n",
            "0   2003          146590    24187956              1   \n",
            "1   1997          100289  2166944120              1   \n",
            "2   1998          107045    18121729              1   \n",
            "3   1999          114031    19759525              1   \n",
            "4   2000          126668  2168781641              1   \n",
            "5   2005          169033    27633904              1   \n",
            "6   1979           32522     5351513              1   \n",
            "7   1996           92695    15808512              1   \n",
            "8   2002          133797    22688262              1   \n",
            "9   1984           43562     7124459              1   \n",
            "\n",
            "                                        longest_book  \n",
            "0  21st Century Complete Guide To The National Se...  \n",
            "1                                  שלושה סיפורי אהבה  \n",
            "2                                         Prealgebra  \n",
            "3  Theological and Miscellaneous Works of Joseph ...  \n",
            "4                                     Dentes Brancos  \n",
            "5  A Practical Guide to Linux Commands, Editors, ...  \n",
            "6                     Gordana kraljica Hrvata (1-12)  \n",
            "7     The Persian Encyclopedia (دايرة المعارف فارسى)  \n",
            "8  21st Century Complete Guide to the Gulf War, O...  \n",
            "9                             تفسير التحرير والتنوير  \n",
            "\n",
            "Last ten years registered:\n",
            "      years  published_book  num_pages  \\\n",
            "1211    367               1        482   \n",
            "1212    317               1       1996   \n",
            "1213    190               2        204   \n",
            "1214    761               2         64   \n",
            "1215   1015               3         91   \n",
            "1216   1323               1        570   \n",
            "1217    327               1          0   \n",
            "1218    954               1         75   \n",
            "1219   1436               1          0   \n",
            "1220   1458               1         26   \n",
            "\n",
            "                                         frequent_month  \\\n",
            "1211  There isn't enough information to find the mos...   \n",
            "1212                                                  1   \n",
            "1213                                                  1   \n",
            "1214  There isn't enough information to find the mos...   \n",
            "1215                                                  3   \n",
            "1216                                                  1   \n",
            "1217  There isn't enough information to find the mos...   \n",
            "1218  There isn't enough information to find the mos...   \n",
            "1219                                                  1   \n",
            "1220  There isn't enough information to find the mos...   \n",
            "\n",
            "                                         longest_book  \n",
            "1211                                   Noul Testament  \n",
            "1212  De Ulisses a Viriato : o primeiro milénio a. C.  \n",
            "1213        Vägen till San Carlos (Apache-serien, #5)  \n",
            "1214                         Three Tang Dynasty Poets  \n",
            "1215                                            Ossos  \n",
            "1216            مكايد الرجال و مادموازل وسيمه فرانسوي  \n",
            "1217                      Die schönsten Erzählungen 2  \n",
            "1218                              Det mellanmänskliga  \n",
            "1219                                           ومحياي  \n",
            "1220                           Heidelberger Totentanz  \n"
          ]
        }
      ],
      "source": [
        "from numpy import NaN\n",
        "#Use this function to build your data frame: the primary key will be a year,\n",
        "#and the required information will be the attributes within the row.\n",
        "#Finally, show the head and the tail of this new data frame considering the\n",
        "#first ten years registered and the last ten years.\n",
        "\n",
        "years = df1['publication_year'].unique() #years is the primary key\n",
        "list_years = []\n",
        "for i in years:\n",
        "  if i!=0 and i<2024:\n",
        "    info = info_year(i)\n",
        "    list_years.append([i] + list(info))\n",
        "\n",
        "df_years = pd.DataFrame(list_years, columns = ['years', 'published_book', 'num_pages', 'frequent_month', 'longest_book'])\n",
        "print('First ten years registered:')\n",
        "print(df_years.head(10))\n",
        "print('\\nLast ten years registered:')\n",
        "print(df_years.tail(10))\n",
        "\n",
        "#OK VA BENE"
      ]
    },
    {
      "cell_type": "code",
      "execution_count": null,
      "metadata": {
        "colab": {
          "base_uri": "https://localhost:8080/"
        },
        "id": "VoOOAVcZqjxP",
        "outputId": "288a334a-98ce-43d6-fc13-8506aacf27a7"
      },
      "outputs": [
        {
          "name": "stderr",
          "output_type": "stream",
          "text": [
            "<ipython-input-38-9559388ad2f7>:16: SettingWithCopyWarning: \n",
            "A value is trying to be set on a copy of a slice from a DataFrame.\n",
            "Try using .loc[row_indexer,col_indexer] = value instead\n",
            "\n",
            "See the caveats in the documentation: https://pandas.pydata.org/pandas-docs/stable/user_guide/indexing.html#returning-a-view-versus-a-copy\n",
            "  select_books['num_pages'] = pd.to_numeric(select_books['num_pages'], errors='coerce')\n",
            "<ipython-input-38-9559388ad2f7>:16: SettingWithCopyWarning: \n",
            "A value is trying to be set on a copy of a slice from a DataFrame.\n",
            "Try using .loc[row_indexer,col_indexer] = value instead\n",
            "\n",
            "See the caveats in the documentation: https://pandas.pydata.org/pandas-docs/stable/user_guide/indexing.html#returning-a-view-versus-a-copy\n",
            "  select_books['num_pages'] = pd.to_numeric(select_books['num_pages'], errors='coerce')\n",
            "<ipython-input-38-9559388ad2f7>:16: SettingWithCopyWarning: \n",
            "A value is trying to be set on a copy of a slice from a DataFrame.\n",
            "Try using .loc[row_indexer,col_indexer] = value instead\n",
            "\n",
            "See the caveats in the documentation: https://pandas.pydata.org/pandas-docs/stable/user_guide/indexing.html#returning-a-view-versus-a-copy\n",
            "  select_books['num_pages'] = pd.to_numeric(select_books['num_pages'], errors='coerce')\n",
            "<ipython-input-38-9559388ad2f7>:16: SettingWithCopyWarning: \n",
            "A value is trying to be set on a copy of a slice from a DataFrame.\n",
            "Try using .loc[row_indexer,col_indexer] = value instead\n",
            "\n",
            "See the caveats in the documentation: https://pandas.pydata.org/pandas-docs/stable/user_guide/indexing.html#returning-a-view-versus-a-copy\n",
            "  select_books['num_pages'] = pd.to_numeric(select_books['num_pages'], errors='coerce')\n",
            "<ipython-input-38-9559388ad2f7>:16: SettingWithCopyWarning: \n",
            "A value is trying to be set on a copy of a slice from a DataFrame.\n",
            "Try using .loc[row_indexer,col_indexer] = value instead\n",
            "\n",
            "See the caveats in the documentation: https://pandas.pydata.org/pandas-docs/stable/user_guide/indexing.html#returning-a-view-versus-a-copy\n",
            "  select_books['num_pages'] = pd.to_numeric(select_books['num_pages'], errors='coerce')\n",
            "<ipython-input-38-9559388ad2f7>:16: SettingWithCopyWarning: \n",
            "A value is trying to be set on a copy of a slice from a DataFrame.\n",
            "Try using .loc[row_indexer,col_indexer] = value instead\n",
            "\n",
            "See the caveats in the documentation: https://pandas.pydata.org/pandas-docs/stable/user_guide/indexing.html#returning-a-view-versus-a-copy\n",
            "  select_books['num_pages'] = pd.to_numeric(select_books['num_pages'], errors='coerce')\n",
            "<ipython-input-38-9559388ad2f7>:16: SettingWithCopyWarning: \n",
            "A value is trying to be set on a copy of a slice from a DataFrame.\n",
            "Try using .loc[row_indexer,col_indexer] = value instead\n",
            "\n",
            "See the caveats in the documentation: https://pandas.pydata.org/pandas-docs/stable/user_guide/indexing.html#returning-a-view-versus-a-copy\n",
            "  select_books['num_pages'] = pd.to_numeric(select_books['num_pages'], errors='coerce')\n",
            "<ipython-input-38-9559388ad2f7>:16: SettingWithCopyWarning: \n",
            "A value is trying to be set on a copy of a slice from a DataFrame.\n",
            "Try using .loc[row_indexer,col_indexer] = value instead\n",
            "\n",
            "See the caveats in the documentation: https://pandas.pydata.org/pandas-docs/stable/user_guide/indexing.html#returning-a-view-versus-a-copy\n",
            "  select_books['num_pages'] = pd.to_numeric(select_books['num_pages'], errors='coerce')\n",
            "<ipython-input-38-9559388ad2f7>:16: SettingWithCopyWarning: \n",
            "A value is trying to be set on a copy of a slice from a DataFrame.\n",
            "Try using .loc[row_indexer,col_indexer] = value instead\n",
            "\n",
            "See the caveats in the documentation: https://pandas.pydata.org/pandas-docs/stable/user_guide/indexing.html#returning-a-view-versus-a-copy\n",
            "  select_books['num_pages'] = pd.to_numeric(select_books['num_pages'], errors='coerce')\n",
            "<ipython-input-38-9559388ad2f7>:16: SettingWithCopyWarning: \n",
            "A value is trying to be set on a copy of a slice from a DataFrame.\n",
            "Try using .loc[row_indexer,col_indexer] = value instead\n",
            "\n",
            "See the caveats in the documentation: https://pandas.pydata.org/pandas-docs/stable/user_guide/indexing.html#returning-a-view-versus-a-copy\n",
            "  select_books['num_pages'] = pd.to_numeric(select_books['num_pages'], errors='coerce')\n",
            "<ipython-input-38-9559388ad2f7>:16: SettingWithCopyWarning: \n",
            "A value is trying to be set on a copy of a slice from a DataFrame.\n",
            "Try using .loc[row_indexer,col_indexer] = value instead\n",
            "\n",
            "See the caveats in the documentation: https://pandas.pydata.org/pandas-docs/stable/user_guide/indexing.html#returning-a-view-versus-a-copy\n",
            "  select_books['num_pages'] = pd.to_numeric(select_books['num_pages'], errors='coerce')\n",
            "<ipython-input-38-9559388ad2f7>:16: SettingWithCopyWarning: \n",
            "A value is trying to be set on a copy of a slice from a DataFrame.\n",
            "Try using .loc[row_indexer,col_indexer] = value instead\n",
            "\n",
            "See the caveats in the documentation: https://pandas.pydata.org/pandas-docs/stable/user_guide/indexing.html#returning-a-view-versus-a-copy\n",
            "  select_books['num_pages'] = pd.to_numeric(select_books['num_pages'], errors='coerce')\n",
            "<ipython-input-38-9559388ad2f7>:16: SettingWithCopyWarning: \n",
            "A value is trying to be set on a copy of a slice from a DataFrame.\n",
            "Try using .loc[row_indexer,col_indexer] = value instead\n",
            "\n",
            "See the caveats in the documentation: https://pandas.pydata.org/pandas-docs/stable/user_guide/indexing.html#returning-a-view-versus-a-copy\n",
            "  select_books['num_pages'] = pd.to_numeric(select_books['num_pages'], errors='coerce')\n",
            "<ipython-input-38-9559388ad2f7>:16: SettingWithCopyWarning: \n",
            "A value is trying to be set on a copy of a slice from a DataFrame.\n",
            "Try using .loc[row_indexer,col_indexer] = value instead\n",
            "\n",
            "See the caveats in the documentation: https://pandas.pydata.org/pandas-docs/stable/user_guide/indexing.html#returning-a-view-versus-a-copy\n",
            "  select_books['num_pages'] = pd.to_numeric(select_books['num_pages'], errors='coerce')\n",
            "<ipython-input-38-9559388ad2f7>:16: SettingWithCopyWarning: \n",
            "A value is trying to be set on a copy of a slice from a DataFrame.\n",
            "Try using .loc[row_indexer,col_indexer] = value instead\n",
            "\n",
            "See the caveats in the documentation: https://pandas.pydata.org/pandas-docs/stable/user_guide/indexing.html#returning-a-view-versus-a-copy\n",
            "  select_books['num_pages'] = pd.to_numeric(select_books['num_pages'], errors='coerce')\n",
            "<ipython-input-38-9559388ad2f7>:16: SettingWithCopyWarning: \n",
            "A value is trying to be set on a copy of a slice from a DataFrame.\n",
            "Try using .loc[row_indexer,col_indexer] = value instead\n",
            "\n",
            "See the caveats in the documentation: https://pandas.pydata.org/pandas-docs/stable/user_guide/indexing.html#returning-a-view-versus-a-copy\n",
            "  select_books['num_pages'] = pd.to_numeric(select_books['num_pages'], errors='coerce')\n",
            "<ipython-input-38-9559388ad2f7>:16: SettingWithCopyWarning: \n",
            "A value is trying to be set on a copy of a slice from a DataFrame.\n",
            "Try using .loc[row_indexer,col_indexer] = value instead\n",
            "\n",
            "See the caveats in the documentation: https://pandas.pydata.org/pandas-docs/stable/user_guide/indexing.html#returning-a-view-versus-a-copy\n",
            "  select_books['num_pages'] = pd.to_numeric(select_books['num_pages'], errors='coerce')\n",
            "<ipython-input-38-9559388ad2f7>:16: SettingWithCopyWarning: \n",
            "A value is trying to be set on a copy of a slice from a DataFrame.\n",
            "Try using .loc[row_indexer,col_indexer] = value instead\n",
            "\n",
            "See the caveats in the documentation: https://pandas.pydata.org/pandas-docs/stable/user_guide/indexing.html#returning-a-view-versus-a-copy\n",
            "  select_books['num_pages'] = pd.to_numeric(select_books['num_pages'], errors='coerce')\n",
            "<ipython-input-38-9559388ad2f7>:16: SettingWithCopyWarning: \n",
            "A value is trying to be set on a copy of a slice from a DataFrame.\n",
            "Try using .loc[row_indexer,col_indexer] = value instead\n",
            "\n",
            "See the caveats in the documentation: https://pandas.pydata.org/pandas-docs/stable/user_guide/indexing.html#returning-a-view-versus-a-copy\n",
            "  select_books['num_pages'] = pd.to_numeric(select_books['num_pages'], errors='coerce')\n",
            "<ipython-input-38-9559388ad2f7>:16: SettingWithCopyWarning: \n",
            "A value is trying to be set on a copy of a slice from a DataFrame.\n",
            "Try using .loc[row_indexer,col_indexer] = value instead\n",
            "\n",
            "See the caveats in the documentation: https://pandas.pydata.org/pandas-docs/stable/user_guide/indexing.html#returning-a-view-versus-a-copy\n",
            "  select_books['num_pages'] = pd.to_numeric(select_books['num_pages'], errors='coerce')\n",
            "<ipython-input-38-9559388ad2f7>:16: SettingWithCopyWarning: \n",
            "A value is trying to be set on a copy of a slice from a DataFrame.\n",
            "Try using .loc[row_indexer,col_indexer] = value instead\n",
            "\n",
            "See the caveats in the documentation: https://pandas.pydata.org/pandas-docs/stable/user_guide/indexing.html#returning-a-view-versus-a-copy\n",
            "  select_books['num_pages'] = pd.to_numeric(select_books['num_pages'], errors='coerce')\n",
            "<ipython-input-38-9559388ad2f7>:16: SettingWithCopyWarning: \n",
            "A value is trying to be set on a copy of a slice from a DataFrame.\n",
            "Try using .loc[row_indexer,col_indexer] = value instead\n",
            "\n",
            "See the caveats in the documentation: https://pandas.pydata.org/pandas-docs/stable/user_guide/indexing.html#returning-a-view-versus-a-copy\n",
            "  select_books['num_pages'] = pd.to_numeric(select_books['num_pages'], errors='coerce')\n",
            "<ipython-input-38-9559388ad2f7>:16: SettingWithCopyWarning: \n",
            "A value is trying to be set on a copy of a slice from a DataFrame.\n",
            "Try using .loc[row_indexer,col_indexer] = value instead\n",
            "\n",
            "See the caveats in the documentation: https://pandas.pydata.org/pandas-docs/stable/user_guide/indexing.html#returning-a-view-versus-a-copy\n",
            "  select_books['num_pages'] = pd.to_numeric(select_books['num_pages'], errors='coerce')\n",
            "<ipython-input-38-9559388ad2f7>:16: SettingWithCopyWarning: \n",
            "A value is trying to be set on a copy of a slice from a DataFrame.\n",
            "Try using .loc[row_indexer,col_indexer] = value instead\n",
            "\n",
            "See the caveats in the documentation: https://pandas.pydata.org/pandas-docs/stable/user_guide/indexing.html#returning-a-view-versus-a-copy\n",
            "  select_books['num_pages'] = pd.to_numeric(select_books['num_pages'], errors='coerce')\n",
            "<ipython-input-38-9559388ad2f7>:16: SettingWithCopyWarning: \n",
            "A value is trying to be set on a copy of a slice from a DataFrame.\n",
            "Try using .loc[row_indexer,col_indexer] = value instead\n",
            "\n",
            "See the caveats in the documentation: https://pandas.pydata.org/pandas-docs/stable/user_guide/indexing.html#returning-a-view-versus-a-copy\n",
            "  select_books['num_pages'] = pd.to_numeric(select_books['num_pages'], errors='coerce')\n",
            "<ipython-input-38-9559388ad2f7>:16: SettingWithCopyWarning: \n",
            "A value is trying to be set on a copy of a slice from a DataFrame.\n",
            "Try using .loc[row_indexer,col_indexer] = value instead\n",
            "\n",
            "See the caveats in the documentation: https://pandas.pydata.org/pandas-docs/stable/user_guide/indexing.html#returning-a-view-versus-a-copy\n",
            "  select_books['num_pages'] = pd.to_numeric(select_books['num_pages'], errors='coerce')\n"
          ]
        },
        {
          "name": "stdout",
          "output_type": "stream",
          "text": [
            "Head of the DataFrame:\n",
            "      Books Published   Total Pages Most Prolific Month  \\\n",
            "1990            61655  1.055410e+07                  01   \n",
            "1991            65571  1.136554e+07                  01   \n",
            "1992            70826  1.226798e+07                  01   \n",
            "1993            73965  1.294439e+07                  01   \n",
            "1994            79082  1.348162e+07                  01   \n",
            "1995            86212  1.468196e+07                  01   \n",
            "1996            92696  1.580852e+07                  01   \n",
            "1997           100289  2.166944e+09                  01   \n",
            "1998           107046  1.812173e+07                  01   \n",
            "1999           114032  1.975968e+07                  01   \n",
            "\n",
            "                                           Longest Book  \n",
            "1990  The New International Commentary on the Old Te...  \n",
            "1991           The New American Commentary Series (NAC)  \n",
            "1992             Paperbound Books in Print, Spring 1992  \n",
            "1993                     En grusom kvinnes bekjennelser  \n",
            "1994    Richard Wright: A Collection of Critical Essays  \n",
            "1995          الموسوعة الشاملة في تاريخ الحروب الصليبية  \n",
            "1996     The Persian Encyclopedia (دايرة المعارف فارسى)  \n",
            "1997                                  שלושה סיפורי אהבה  \n",
            "1998                                         Prealgebra  \n",
            "1999  Theological and Miscellaneous Works of Joseph ...  \n",
            "\n",
            "Tail of the DataFrame:\n",
            "      Books Published  Total Pages Most Prolific Month  \\\n",
            "2013           430979   67942386.0                  01   \n",
            "2014           358376   44591442.0                  01   \n",
            "2015           119988   14386882.0                  01   \n",
            "2016             3447     740098.0                  01   \n",
            "2017             1038     179499.0                  02   \n",
            "2018              413      82198.0                  01   \n",
            "2019              319      50895.0                  08   \n",
            "2020              278      36721.0                  05   \n",
            "2021               52      10677.0                  03   \n",
            "2022               28       2587.0                  10   \n",
            "\n",
            "                                           Longest Book  \n",
            "2013    Fermata Qt8 - Storie Ripensate in Metropolitana  \n",
            "2014   A Most Unlikely Countess (To Love a Wildcat, #2)  \n",
            "2015  Revel for the American Nation: A History of th...  \n",
            "2016                                          Homestuck  \n",
            "2017                             The Starfarers Quartet  \n",
            "2018                                              地海六部曲  \n",
            "2019                                      Nouvelles Les  \n",
            "2020          The Complete Ripley Novels (Ripley, #1-5)  \n",
            "2021  The Navigator's Children (The Last King of Ost...  \n",
            "2022                Annabel Horton: Lost Witch of Salem  \n"
          ]
        },
        {
          "name": "stderr",
          "output_type": "stream",
          "text": [
            "<ipython-input-38-9559388ad2f7>:16: SettingWithCopyWarning: \n",
            "A value is trying to be set on a copy of a slice from a DataFrame.\n",
            "Try using .loc[row_indexer,col_indexer] = value instead\n",
            "\n",
            "See the caveats in the documentation: https://pandas.pydata.org/pandas-docs/stable/user_guide/indexing.html#returning-a-view-versus-a-copy\n",
            "  select_books['num_pages'] = pd.to_numeric(select_books['num_pages'], errors='coerce')\n",
            "<ipython-input-38-9559388ad2f7>:16: SettingWithCopyWarning: \n",
            "A value is trying to be set on a copy of a slice from a DataFrame.\n",
            "Try using .loc[row_indexer,col_indexer] = value instead\n",
            "\n",
            "See the caveats in the documentation: https://pandas.pydata.org/pandas-docs/stable/user_guide/indexing.html#returning-a-view-versus-a-copy\n",
            "  select_books['num_pages'] = pd.to_numeric(select_books['num_pages'], errors='coerce')\n",
            "<ipython-input-38-9559388ad2f7>:16: SettingWithCopyWarning: \n",
            "A value is trying to be set on a copy of a slice from a DataFrame.\n",
            "Try using .loc[row_indexer,col_indexer] = value instead\n",
            "\n",
            "See the caveats in the documentation: https://pandas.pydata.org/pandas-docs/stable/user_guide/indexing.html#returning-a-view-versus-a-copy\n",
            "  select_books['num_pages'] = pd.to_numeric(select_books['num_pages'], errors='coerce')\n",
            "<ipython-input-38-9559388ad2f7>:16: SettingWithCopyWarning: \n",
            "A value is trying to be set on a copy of a slice from a DataFrame.\n",
            "Try using .loc[row_indexer,col_indexer] = value instead\n",
            "\n",
            "See the caveats in the documentation: https://pandas.pydata.org/pandas-docs/stable/user_guide/indexing.html#returning-a-view-versus-a-copy\n",
            "  select_books['num_pages'] = pd.to_numeric(select_books['num_pages'], errors='coerce')\n",
            "<ipython-input-38-9559388ad2f7>:16: SettingWithCopyWarning: \n",
            "A value is trying to be set on a copy of a slice from a DataFrame.\n",
            "Try using .loc[row_indexer,col_indexer] = value instead\n",
            "\n",
            "See the caveats in the documentation: https://pandas.pydata.org/pandas-docs/stable/user_guide/indexing.html#returning-a-view-versus-a-copy\n",
            "  select_books['num_pages'] = pd.to_numeric(select_books['num_pages'], errors='coerce')\n",
            "<ipython-input-38-9559388ad2f7>:16: SettingWithCopyWarning: \n",
            "A value is trying to be set on a copy of a slice from a DataFrame.\n",
            "Try using .loc[row_indexer,col_indexer] = value instead\n",
            "\n",
            "See the caveats in the documentation: https://pandas.pydata.org/pandas-docs/stable/user_guide/indexing.html#returning-a-view-versus-a-copy\n",
            "  select_books['num_pages'] = pd.to_numeric(select_books['num_pages'], errors='coerce')\n",
            "<ipython-input-38-9559388ad2f7>:16: SettingWithCopyWarning: \n",
            "A value is trying to be set on a copy of a slice from a DataFrame.\n",
            "Try using .loc[row_indexer,col_indexer] = value instead\n",
            "\n",
            "See the caveats in the documentation: https://pandas.pydata.org/pandas-docs/stable/user_guide/indexing.html#returning-a-view-versus-a-copy\n",
            "  select_books['num_pages'] = pd.to_numeric(select_books['num_pages'], errors='coerce')\n"
          ]
        }
      ],
      "source": [
        "#Soluzione di CHATGPT (2)\n",
        "import pandas as pd\n",
        "\n",
        "# Assuming you have two DataFrames 'df' and 'df1' as you described\n",
        "# Extract the year from the 'original_publication_date' column in df1\n",
        "df1['publication_year'] = pd.to_datetime(df1['original_publication_date'], errors='coerce').dt.year\n",
        "\n",
        "# Define a function to get information for a specific year\n",
        "def get_yearly_info(year):\n",
        "    select_books = df1[df1['publication_year'] == year]\n",
        "\n",
        "    # The number of books published that year\n",
        "    published_books = len(select_books)\n",
        "\n",
        "    # The total number of pages written that year\n",
        "    select_books['num_pages'] = pd.to_numeric(select_books['num_pages'], errors='coerce')\n",
        "    total_pages = select_books['num_pages'].sum()\n",
        "\n",
        "    # The most prolific month of that year\n",
        "    most_prolific_month = select_books['original_publication_date'].str.split('-', expand=True)[1].mode().values[0]\n",
        "\n",
        "    # The longest book written that year\n",
        "    longest_book = select_books.loc[select_books['num_pages'].idxmax()]['title']\n",
        "\n",
        "    return [published_books, total_pages, most_prolific_month, longest_book]\n",
        "\n",
        "# Create a DataFrame for the required information\n",
        "years = list(range(1990, 2023))  # Assuming you have data from 1990 to 2022\n",
        "data = []\n",
        "\n",
        "for year in years:\n",
        "    info = get_yearly_info(year)\n",
        "    data.append(info)\n",
        "\n",
        "columns = ['Books Published', 'Total Pages', 'Most Prolific Month', 'Longest Book']\n",
        "yearly_info_df = pd.DataFrame(data, index=years, columns=columns)\n",
        "\n",
        "# Display the head and tail of the DataFrame\n",
        "print(\"Head of the DataFrame:\")\n",
        "print(yearly_info_df.head(10))\n",
        "\n",
        "print(\"\\nTail of the DataFrame:\")\n",
        "print(yearly_info_df.tail(10))\n",
        "\n",
        "\n",
        "#This solution of CHATGPT works. The output is different for some books because\n",
        "#CHATGPT assumes that the range of the years is from 1990 to 2023 (in our\n",
        "#solution we assume that the years is maximum 2023, but a book can be published\n",
        "#also before 1990).\n",
        "#To prove this solution we just described to CHATGPT the structure of the dataset\n",
        "#of the authors, specifying that the 'original_publication_date' is sometimes\n",
        "#incomplete (for this reason it uses errors='coerce'), and then we run the code.\n",
        "#It gives a SettingWithCopyWarning because it is modifying a column of the Dataframe\n",
        "#and this can bring changes to the original data."
      ]
    },
    {
      "cell_type": "code",
      "execution_count": null,
      "metadata": {
        "colab": {
          "base_uri": "https://localhost:8080/"
        },
        "id": "KJXRj7ozkkzo",
        "outputId": "fc32b493-5245-42a6-9f1e-1cac3e851603"
      },
      "outputs": [
        {
          "name": "stdout",
          "output_type": "stream",
          "text": [
            "It's true, there are no eponymous authors\n",
            "\n",
            "The longest book title among the books of the top 20 authors regarding their average rating is:\n",
            " Political Debates Between Hon. Abraham Lincoln and Hon. Stephen A. Douglas, in the Celebrated Campaign of 1858 in Illinois; Including the Preceding Speeches of Each, at Chicago, Springfield, Etc.; Also the Two Great Speeches of Mr. Lincoln in Ohio, in 185\n",
            "It is the longest book title overall.\n",
            "The shortest overall book title is:  0\n"
          ]
        }
      ],
      "source": [
        "from numpy.lib.function_base import digitize\n",
        "#PUNTO 4\n",
        "\n",
        "#You should be sure there are no eponymous (different authors who have precisely\n",
        "#the same name) in the author's dataset. Is it true?\n",
        "duplicates= list(df['name'].duplicated())\n",
        "if len(duplicates) !=0:\n",
        "  print(\"It's true, there are no eponymous authors\")\n",
        "else:\n",
        "  print(\"It's not true, there are eponymous authors\")\n",
        "\n",
        "#Write a function that, given a list of author_id, outputs a dictionary where\n",
        "#each author_id is a key, and the related value is a list with the names of all\n",
        "#the books the author has written.\n",
        "def books_dict(author_id, dataframe):\n",
        "  diz = dict()\n",
        "  for i in author_id:\n",
        "    author_books = dataframe[dataframe['author_id']==i]\n",
        "    titles= list(author_books['title'])\n",
        "    diz[i]=titles\n",
        "\n",
        "  return(diz)\n",
        "\n",
        "#What is the longest book title among the books of the top 20 authors regarding\n",
        "#their average rating? Is it the longest book title overall?\n",
        "id_authors=list(df['id'])\n",
        "authors_total = df[['average_rating', 'id','name']]\n",
        "authors_total = authors_total.sort_values(by='average_rating', ascending=False)\n",
        "authors_20top = authors_total[:20] #Find the top 20 authors\n",
        "diz_20top = books_dict(authors_20top['id'], df1)\n",
        "\n",
        "max_t=0\n",
        "for id, titles in diz_20top.items():\n",
        "  for i in titles:\n",
        "    if len(i) > max_t:\n",
        "      max_t=len(i)\n",
        "      longest_book=i\n",
        "print(\"\\nThe longest book title among the books of the top 20 authors regarding their average rating is:\\n\", longest_book)\n",
        "\n",
        "diz_total = books_dict(id_authors, df1)\n",
        "max_all=0\n",
        "for id, titles in diz_total.items():\n",
        "  for i in titles:\n",
        "    if len(i) > max_all:\n",
        "      max_all=len(i)\n",
        "      longest_all=i\n",
        "\n",
        "if longest_all==longest_book:\n",
        "  print(\"It is the longest book title overall.\")\n",
        "else:\n",
        "  print(\"It is not the longest book title overall.\") #FINO A QUI FUNZIONA, OK!\n",
        "\n",
        "#What is the shortest overall book title in the dataset? If you find something\n",
        "#strange, provide a comment on what happened and an alternative answer.\n",
        "min_all=float('inf')\n",
        "for id, titles in diz_total.items():\n",
        "  for i in titles:\n",
        "    if len(i) < min_all:\n",
        "      min_all=len(i)\n",
        "      shortest_all=i\n",
        "if shortest_all != None and shortest_all != 0:\n",
        "  print(\"The shortest overall book title has length: \", min_all)\n",
        "elif shortest_all == 0:\n",
        "  print(\"There is something strange, the shortest book has length 0\")\n",
        "\n",
        "diz_tot = books_dict(df1['author_name'], df1)\n",
        "min_t=0\n",
        "for id, titles in diz_tot.items():\n",
        "  for i in titles:\n",
        "    if len(i) <= min_t:\n",
        "      min_t=len(i)\n",
        "      shortest_book=i\n",
        "print(\"\\nThe shortest overall book title is:\\n\", shortest_book)\n",
        "\n",
        "#DA RUNNARE SOLO L'ULTIMA PARTE PER STAMPARE IL TITOLO PIù CORTO (che ha lunghezza 0)"
      ]
    },
    {
      "cell_type": "code",
      "execution_count": 38,
      "metadata": {
        "colab": {
          "base_uri": "https://localhost:8080/",
          "height": 1000
        },
        "id": "-8Pjf2Znkk3D",
        "outputId": "b97c66f0-d206-42fa-8551-10dead84ed39"
      },
      "outputs": [
        {
          "name": "stdout",
          "output_type": "stream",
          "text": [
            "The top 10 most influential authors are:\n",
            " 1017             Stephen King\n",
            "1161          James Patterson\n",
            "27110         Cassandra Clare\n",
            "4537             Rick Riordan\n",
            "169374          Veronica Roth\n",
            "205870         Colleen Hoover\n",
            "100166             John Green\n",
            "3818      Neil deGrasse Tyson\n",
            "32358            Mindy Kaling\n",
            "6397              Bill  Gates\n",
            "Name: name, dtype: string\n",
            "The most influential author is:  Stephen King\n",
            "\n",
            "There isn't a longest serie name.\n",
            "\n",
            "There is  1  author with different formats publications.\n",
            "\n"
          ]
        },
        {
          "data": {
            "image/png": "[encoded data removed]",
            "text/plain": [
              "<Figure size 640x480 with 1 Axes>"
            ]
          },
          "metadata": {},
          "output_type": "display_data"
        },
        {
          "name": "stdout",
          "output_type": "stream",
          "text": [
            "Information about the general response from readers for the 10 influent authors:\n",
            "                        name  gender  average_rating  ratings_count  \\\n",
            "1017           Stephen King    Male        4.039062       15195579   \n",
            "1161        James Patterson    Male        3.980469        6514711   \n",
            "27110       Cassandra Clare  Female        4.238281        7401435   \n",
            "4537           Rick Riordan    Male        4.320312        9144089   \n",
            "169374        Veronica Roth  Female        4.050781        5739316   \n",
            "205870       Colleen Hoover  Female        4.238281        2239503   \n",
            "100166           John Green   Other        4.031250        7186569   \n",
            "3818    Neil deGrasse Tyson   Other        4.070312         175216   \n",
            "32358          Mindy Kaling   Other        3.880859         611045   \n",
            "6397            Bill  Gates   Other        3.849609           9418   \n",
            "\n",
            "        text_reviews_count  fans_count  \n",
            "1017                608956      766035  \n",
            "1161                333220      317040  \n",
            "27110               416177      238560  \n",
            "4537                354145      339346  \n",
            "169374              277033      455358  \n",
            "205870              240302      356633  \n",
            "100166              358221      282537  \n",
            "3818                 16300      277850  \n",
            "32358                34482      234647  \n",
            "6397                   562      446876  \n"
          ]
        }
      ],
      "source": [
        "import numpy as np\n",
        "import matplotlib.pyplot as plt\n",
        "#PUNTO 5\n",
        "#Plot the top 10 most influential authors regarding their fan count and number\n",
        "#of books. Who is the most influential author?\n",
        "\n",
        "#AUTHORS: Index(['ratings_count', 'average_rating', 'text_reviews_count', 'work_ids',\n",
        "       #'book_ids', 'works_count', 'id', 'name', 'gender', 'image_url', 'about',\n",
        "       #'fans_count']\n",
        "\n",
        "#Ordering by fan count\n",
        "authors_influential = df.sort_values(by = 'fans_count', ascending = False)\n",
        "authors_influential = authors_influential[:10]\n",
        "#Ordering by number of books\n",
        "authors_influential = authors_influential.sort_values(by = 'works_count', ascending = False)\n",
        "print(\"The top 10 most influential authors are:\\n\", authors_influential['name'])\n",
        "\n",
        "most_influent = authors_influential.iloc[0]\n",
        "print(\"The most influential author is: \", most_influent['name'])\n",
        "\n",
        "#Have they published any series of books? If any, extract the longest series\n",
        "#name among these authors.\n",
        "\n",
        "#Index(['id', 'title', 'authors', 'author_name', 'author_id', 'work_id', 'isbn',\n",
        "      # 'isbn13', 'asin', 'language', 'average_rating', 'rating_dist',\n",
        "      # 'ratings_count', 'text_reviews_count', 'publication_date',\n",
        "      # 'original_publication_date', 'format', 'edition_information',\n",
        "      # 'image_url', 'publisher', 'num_pages', 'series_id', 'series_name',\n",
        "      # 'series_position', 'shelves', 'description']\n",
        "names_influent= authors_influential['name']\n",
        "for i in names_influent:\n",
        "  influent = df1[df1['author_name']==i]\n",
        "\n",
        "max=0\n",
        "longest_series_name=None #in the case there isn't a serie name\n",
        "names_series= influent['series_name']\n",
        "for j in names_series:\n",
        "  if len(j) > max:\n",
        "    max=len(j)\n",
        "    longest_series_name = j\n",
        "\n",
        "if longest_series_name != None:\n",
        "  print(\"\\nThe longest series name is: \", longest_series_name)\n",
        "else:\n",
        "  print(\"\\nThere isn't a longest serie name.\")\n",
        "\n",
        "#How many of these authors have been published in different formats?\n",
        "#Provide a meaningful chart on the distribution of the formats and comment on it.\n",
        "\n",
        "#First we create a dictionary with the author name as the key and the formats as the elements for each one.\n",
        "def format_dict(author_name, dataframe):\n",
        "  diz = dict()\n",
        "  influent_10 = dataframe[dataframe['author_name']==author_name]\n",
        "  formats= list(influent_10['format'])\n",
        "  diz[author_name]=formats\n",
        "\n",
        "  return(diz)\n",
        "\n",
        "formats_count = {}\n",
        "for i in names_influent:\n",
        "    diz_format = format_dict(i, df1)\n",
        "\n",
        "    #Calculating the number of unique formats for the author i\n",
        "    formats_set = set(diz_format[i])\n",
        "    formats_count[i] = len(formats_set)\n",
        "\n",
        "#Then we see if there are duplicates in the format.\n",
        "count=0\n",
        "for i in diz_format.values():\n",
        "  if len(set(i)) != len(i):\n",
        "    count = count+1\n",
        "if count==0:\n",
        "  print(\"\\nThere are no author with different formats publications.\\n\")\n",
        "if count==1:\n",
        "  print(\"\\nThere is \", count, \" author with different formats publications.\\n\")\n",
        "else:\n",
        "  print(\"\\nThere are \", count, \" author with different formats publications.\\n\")\n",
        "\n",
        "#Histogram\n",
        "#All the formats in a list\n",
        "formats_all = [i for j in diz_format.values() for i in j]\n",
        "#Creating a dictionary that connets the formats to their index\n",
        "unique_form = np.unique(formats_all)\n",
        "diz_form_index = {} #creating a dictionary with all the formats and the corrispondent index\n",
        "for index, format in enumerate(unique_form):\n",
        "  diz_form_index[format]=index\n",
        "#Converting the formats in numeric indexes\n",
        "formats_numbers = [diz_form_index[i] for i in formats_all]\n",
        "#Calculating the histogram\n",
        "hist, bin_edges = np.histogram(formats_numbers, bins=np.arange(len(unique_form)+1))\n",
        "#Bar chart\n",
        "plt.bar(unique_form, hist, color='red')\n",
        "plt.xlabel('Formats')\n",
        "plt.ylabel('Number of books')\n",
        "plt.title(\"Distribution of the book's formats\")\n",
        "plt.xticks(rotation=45, ha='right')  #Ruotating every name of the bars of 45° and putting them to the right\n",
        "plt.tight_layout() #To be sure that the labels are not overlap\n",
        "plt.show()\n",
        "#From the histogram about the distribution of the formats we can see that the\n",
        "#first format represented don't have a label. This is due to the fact that a\n",
        "#lot of these books (more than 35 books of the influent authors) don't have this\n",
        "#information specified in the data.\n",
        "\n",
        "\n",
        "#Provide information about the general response from readers (number of fans,\n",
        "#average rating, number of reviews, etc.), divide the authors by gender, and\n",
        "#comment about anything eventually related to “structural bias.”\n",
        "\n",
        "info_influent = authors_influential[['name', 'gender', 'average_rating', 'ratings_count', 'text_reviews_count',\n",
        "                    'fans_count']]\n",
        "df_influent = pd.DataFrame(info_influent)\n",
        "print('Information about the general response from readers for the 10 influent authors:\\n', df_influent)\n",
        "\n",
        "#First of all, we can see that John Green, Neil deGrasse Tyson, Mindy Kaling\n",
        "#and Bill Gates have 'Other' as gender. This is due to the fact that this\n",
        "#information is missed. Through a research on Google, we know that John Green,\n",
        "#Neil Tyson and Bill Gates use 'Male' gender, Mindy Kaling uses 'Female' gender.\n",
        "#To start the analisys we can say that there are 6 Males, over 10 authors, so\n",
        "#the 60% of the 10 influent authors are males against the 40% of females.\n",
        "#From this percentages we can see that Queer authors are less influent nowadays.\n",
        "#The average of the 'average_rating' for males is 4.0485, for females is 4.10205.\n",
        "\n",
        "#About the 'fans_count', we calculated the total number of fans from the printed\n",
        "#dataframe. For males they are 2429684, for females 1285198. So the proportions\n",
        "#over the total number of males and females authors are respectively\n",
        "#of 404947.3 (M) and 321299.5 (F).\n",
        "\n",
        "#About the 'text_reviews_count': the total number of text reviews is 1671404\n",
        "#for males, for females is 967994. So the proportions over the total number of\n",
        "#males and females authors are respectively of 278567.3 (M) and 241998.5 (F).\n",
        "\n",
        "#In conclusion we can say that queer people are less represented in these data\n",
        "#since there isn't any queer author in the list of the most 10 influent ones.\n",
        "#Males authors have more fans and text reviews in proportion compared to Females,\n",
        "#but Females have an higher average rating compared to Males."
      ]
    },
    {
      "cell_type": "code",
      "execution_count": 24,
      "metadata": {
        "colab": {
          "base_uri": "https://localhost:8080/"
        },
        "id": "OnOyv6vUklA7",
        "outputId": "c6d0026b-3612-45de-ca48-17a2c138bbbb"
      },
      "outputs": [
        {
          "name": "stdout",
          "output_type": "stream",
          "text": [
            "Average time gap (serie) for author Stephen King: 3 days 02:46:54.686825054\n",
            "Average time gap (not serie) for author Stephen King: Less than 2 publications\n",
            "Average time gap (serie) for author James Patterson: 2 days 14:34:50.570058604\n",
            "Average time gap (not serie) for author James Patterson: Less than 2 publications\n",
            "Average time gap (serie) for author Cassandra Clare: 6 days 08:40:49.180327868\n",
            "Average time gap (not serie) for author Cassandra Clare: Less than 2 publications\n",
            "Average time gap (serie) for author Rick Riordan: 5 days 19:40:46.511627907\n",
            "Average time gap (not serie) for author Rick Riordan: Less than 2 publications\n",
            "Average time gap (serie) for author Veronica Roth: 2 days 09:23:07.709497206\n",
            "Average time gap (not serie) for author Veronica Roth: Less than 2 publications\n",
            "Average time gap (serie) for author Colleen Hoover: 12 days 21:42:12.057416268\n",
            "Average time gap (not serie) for author Colleen Hoover: Less than 2 publications\n",
            "Average time gap (serie) for author John Green: 7 days 17:42:27.226890756\n",
            "Average time gap (not serie) for author John Green: Less than 2 publications\n",
            "Average time gap (serie) for author Neil deGrasse Tyson: 102 days 10:32:11.707317073\n",
            "Average time gap (not serie) for author Neil deGrasse Tyson: Less than 2 publications\n",
            "Average time gap (serie) for author Mindy Kaling: 190 days 08:00:00\n",
            "Average time gap (not serie) for author Mindy Kaling: Less than 2 publications\n",
            "Average time gap (serie) for author Bill  Gates: 13 days 17:55:51.724137931\n",
            "Average time gap (not serie) for author Bill  Gates: Less than 2 publications\n"
          ]
        }
      ],
      "source": [
        "# PUNTO 6\n",
        "\n",
        "# Devo trovare la media del tempo tra due pubblicazioni successive per ogni autore\n",
        "# sia nella serie sia per i libri non appartenenti alla serie.\n",
        "#Faccio due medie.\n",
        "#Considero gli anni.\n",
        "#Sort degli anni di pubblicazione per ogni autore, così poi calcolo le differenze\n",
        "#tra una pubblicazione e un'altra e faccio la media delle differenze.\n",
        "\n",
        "#In media mi aspetto di vedere che un autore pubblica ogni due anni tipo.\n",
        "\n",
        "#Converting the dates in date-format yy-mm-dd\n",
        "df1['original_publication_date'] = pd.to_datetime(df1['original_publication_date'], errors='coerce')\n",
        "\n",
        "#Provide the average time gap between two subsequent publications for a series of books and those not belonging to a series. What do you expect to see, and what is the actual answer to this question?\n",
        "#Calculate difference between two consecutive publication years for each author\n",
        "#and each book\n",
        "df1 = df1.sort_values(by=['author_name', 'original_publication_date'])\n",
        "df1['year_diff'] = df1.groupby('author_name')['original_publication_date'].diff().dt.days\n",
        "df1['year_diff'] = df1['year_diff'].fillna(0)\n",
        "df1['year_diff'] = df1['year_diff'].astype(int)\n",
        "#Calculating average of year differences for books not belonging to a series\n",
        "df1_not_series = df1[df1['series_name'].isnull()]\n",
        "df1_not_series = df1_not_series.groupby('author_name')['year_diff'].mean()\n",
        "df1_not_series = df1_not_series.reset_index()\n",
        "df1_not_series = df1_not_series.rename(columns={'year_diff':'avg_year_diff_not_series'})\n",
        "#Calculating average of year differences for books belonging to a series\n",
        "df1_series = df1[df1['series_name'].notnull()]\n",
        "df1_series = df1_series.groupby('author_name')['year_diff'].mean()\n",
        "df1_series = df1_series.reset_index()\n",
        "df1_series = df1_series.rename(columns={'year_diff':'avg_year_diff_series'})\n",
        "#Merging the two dataframes\n",
        "df1_year_diff = df1_not_series.merge(df1_series, on='author_name', how='outer')\n",
        "#Plotting the results\n",
        "plt.figure(figsize=(10,5))\n",
        "plt.hist(df1_year_diff['avg_year_diff_not_series'], bins=100, label='Not Series')\n",
        "plt.hist(df1_year_diff['avg_year_diff_series'], bins=100, label='Series')\n",
        "plt.xlabel('Average year difference')\n",
        "plt.ylabel('Number of authors')\n",
        "plt.title('Average year difference between two subsequent publications')\n",
        "plt.legend()\n",
        "plt.show()\n",
        "#The average year difference between two subsequent publications is higher for\n",
        "#books belonging to a series than for books not belonging to a series. This is\n",
        "#expected since books belonging to a series are usually published with a higher\n",
        "#frequency than books not belonging to a series. The average year difference\n",
        "#between two subsequent publications is around 2 years for books not belonging\n",
        "#to a series and around 1 year for books belonging to a series.\n"
      ]
    },
    {
      "cell_type": "code",
      "execution_count": 35,
      "metadata": {
        "colab": {
          "base_uri": "https://localhost:8080/",
          "height": 1000
        },
        "id": "nRaA0flv8Y6_",
        "outputId": "a330b292-6b4c-4493-ccd1-a4c48a02bed7"
      },
      "outputs": [
        {
          "data": {
            "image/png": "[encoded data removed]",
            "text/plain": [
              "<Figure size 640x480 with 1 Axes>"
            ]
          },
          "metadata": {},
          "output_type": "display_data"
        },
        {
          "data": {
            "image/png": "[encoded data removed]",
            "text/plain": [
              "<Figure size 640x480 with 1 Axes>"
            ]
          },
          "metadata": {},
          "output_type": "display_data"
        }
      ],
      "source": [
        "#For each of the authors, give a convenient plot showing how many books has\n",
        "#the given author published UP TO a given year. Are these authors contemporary\n",
        "#with each other? Can you notice a range of years where their production rate\n",
        "#was higher?\n",
        "        #UP TO a given year = FINO A un determinato anno\n",
        "#First we create a dictionary with the author name as the key and the books as the elements for each one.\n",
        "names_influent= authors_influential['name'] #the dataframe authors_influential was defined in the solution of point 5.\n",
        "def books_influent_dict(names_influent, given_year, dataframe):\n",
        "  diz = dict()\n",
        "  for i in names_influent:\n",
        "    influent_10 = dataframe[dataframe['author_name']==i]\n",
        "    influent_10 = influent_10.dropna(subset=['publication_year'])\n",
        "    published_books = influent_10[influent_10['publication_year'] <= given_year]\n",
        "    books = list(published_books['title'])\n",
        "    diz[i] = books\n",
        "\n",
        "  return(diz)\n",
        "\n",
        "def hist_uptoyear(year, influent_df):\n",
        "  diz_books_influent = books_influent_dict(names_influent, year, influent_df)\n",
        "  #Creating a dictionary to count how many books there are for each author\n",
        "  counts_dict = {}\n",
        "  for i, j in diz_books_influent.items():\n",
        "    counts_dict[i]=len(j)\n",
        "  #Transforming the dictionary into dataframe\n",
        "  df_counts = pd.DataFrame(list(counts_dict.items()), columns=['author', 'number_of_books'])\n",
        "\n",
        "  #Histogram\n",
        "  df_counts.plot.bar(x='author', y='number_of_books', legend=False)\n",
        "  plt.title(f'Publication up to {year}')\n",
        "  plt.xlabel('Author')\n",
        "  plt.ylabel('Number of books')\n",
        "  plt.show()\n",
        "\n",
        "#Trying for the histogram function up to two different years.\n",
        "hist_uptoyear(2023, df1)\n",
        "hist_uptoyear(2010, df1)"
      ]
    },
    {
      "cell_type": "code",
      "execution_count": 29,
      "metadata": {
        "colab": {
          "base_uri": "https://localhost:8080/"
        },
        "id": "-tQs0_RsklXN",
        "outputId": "3c35bfb3-94dd-448f-99bf-acd260567038"
      },
      "outputs": [
        {
          "name": "stdout",
          "output_type": "stream",
          "text": [
            "The distributions have a significant difference between each other.\n"
          ]
        }
      ],
      "source": [
        "from scipy import stats\n",
        "#PUNTO 8\n",
        "#Compare the average rate distribution for English and non-English books with\n",
        "#a proper statistical procedure. What can you conclude about those two groups?\n",
        "\n",
        "english = df1[df1['language'] == 'eng']\n",
        "not_english = df1[df1['language'] != 'eng']\n",
        "\n",
        "#To compare the average rate distribution we use scipy.stats.ttest_ind() that\n",
        "#calculates the T-test for the means of two independent samples of scores.\n",
        "\n",
        "# H0: m_english = m_not_english\n",
        "# H1: otherwise\n",
        "t_stat, p_value = stats.ttest_ind(english['average_rating'], not_english['average_rating'], equal_var=False)\n",
        "\n",
        "#Level of significancy\n",
        "alpha = 0.05\n",
        "if p_value < alpha:\n",
        "  print(\"The distributions have a significant difference between each other.\")\n",
        "else:\n",
        "  print(\"There isn't a  significant difference between the two distributions.\")\n",
        "\n",
        "#COMMENTO..."
      ]
    },
    {
      "cell_type": "code",
      "execution_count": 30,
      "metadata": {
        "colab": {
          "base_uri": "https://localhost:8080/"
        },
        "id": "3q0HowOyklZZ",
        "outputId": "4c47f0ff-e1ad-42f8-fbee-8e74988f66e6"
      },
      "outputs": [
        {
          "name": "stdout",
          "output_type": "stream",
          "text": [
            "For the two groups of English books and non-English books\n",
            "the modes are:  0    0.0\n",
            "Name: average_rating, dtype: float64 , 0    0.0\n",
            "Name: average_rating, dtype: float64\n",
            "the means are:  3.6891442183375447 , 3.213273636119775\n",
            "the medians are:  3.9 , 3.79\n",
            "the first quartiles are:  3.6 , 3.26\n",
            "the third quartiles are:  4.13 , 4.06\n"
          ]
        }
      ],
      "source": [
        "#About the two groups in the previous question, extract helpful statistics like\n",
        "#mode, mean, median, and quartiles, explaining their role in a box plot.\n",
        "\n",
        "english = english.dropna(subset=['average_rating'])\n",
        "not_english = not_english.dropna(subset=['average_rating'])\n",
        "\n",
        "english['average_rating'] = english['average_rating'].astype(float)\n",
        "not_english['average_rating'] = not_english['average_rating'].astype(float)\n",
        "\n",
        "print(\"For the two groups of English books and non-English books\")\n",
        "#mode\n",
        "mode_english = english['average_rating'].mode()\n",
        "mode_not_english = not_english['average_rating'].mode()\n",
        "print(\"the modes are: \", mode_english, ',', mode_not_english)\n",
        "\n",
        "#mean\n",
        "mean_english = english['average_rating'].mean()\n",
        "mean_not_english = not_english['average_rating'].mean()\n",
        "print(\"the means are: \", mean_english, ',', mean_not_english)\n",
        "\n",
        "#median = quartile q2\n",
        "median_english = english['average_rating'].median()\n",
        "median_not_english = not_english['average_rating'].median()\n",
        "print(\"the medians are: \", median_english, ',', median_not_english)\n",
        "\n",
        "#quartiles\n",
        "#q1\n",
        "q1_english = english['average_rating'].quantile(0.25)\n",
        "q1_not_english = not_english['average_rating'].quantile(0.25)\n",
        "print(\"the first quartiles are: \", q1_english, ',', q1_not_english)\n",
        "\n",
        "#q3\n",
        "q3_english = english['average_rating'].quantile(0.75)\n",
        "q3_not_english = not_english['average_rating'].quantile(0.75)\n",
        "print(\"the third quartiles are: \", q3_english, ',', q3_not_english)"
      ]
    },
    {
      "cell_type": "code",
      "execution_count": 31,
      "metadata": {
        "colab": {
          "base_uri": "https://localhost:8080/",
          "height": 1000
        },
        "id": "JJ7D6dVgkles",
        "outputId": "f36f55f1-52e8-4e83-8677-97ab9aeb9d29"
      },
      "outputs": [
        {
          "data": {
            "image/png": "[encoded data removed]",
            "text/plain": [
              "<Figure size 1000x600 with 1 Axes>"
            ]
          },
          "metadata": {},
          "output_type": "display_data"
        },
        {
          "data": {
            "image/png": "[encoded data removed]",
            "text/plain": [
              "<Figure size 1000x600 with 1 Axes>"
            ]
          },
          "metadata": {},
          "output_type": "display_data"
        }
      ],
      "source": [
        "import seaborn as sns\n",
        "import matplotlib.pyplot as plt\n",
        "import pandas as pd\n",
        "\n",
        "#boxplot: dataframe 'english'\n",
        "sns.set(style=\"whitegrid\")  #Style of the boxplot\n",
        "plt.figure(figsize=(10, 6))  #Dimensions of the graph\n",
        "sns.boxplot(x=english['average_rating'])\n",
        "plt.title(\"Boxplot average_rating for English books\")\n",
        "plt.show()\n",
        "\n",
        "#boxplot: dataframe 'not_english'\n",
        "sns.set(style=\"whitegrid\")  #Style of the boxplot\n",
        "plt.figure(figsize=(10, 6))  #Dimensions of the graph\n",
        "sns.boxplot(x=not_english['average_rating'])\n",
        "plt.title(\"Boxplot average_rating for non-English books\")\n",
        "plt.show()\n",
        "\n",
        "#MANCA COMMENTO...."
      ]
    },
    {
      "cell_type": "code",
      "execution_count": null,
      "metadata": {
        "id": "46cdDw_nklg-"
      },
      "outputs": [],
      "source": [
        "from sklearn.linear_model import LinearRegression\n",
        "from sklearn.model_selection import train_test_split\n",
        "import numpy as np\n",
        "\n",
        "#It seems reasonable to assume that authors with more fans should have more\n",
        "#reviews, but maybe their fans are a bit lazy. Confirm or reject this with a\n",
        "#convenient statistical test or a predictive model.\n",
        "data_model = df1[['fans_count', 'text_reviews_count']]\n",
        "data_model = data_model.dropna()\n",
        "\n"
      ]
    },
    {
      "cell_type": "code",
      "execution_count": 27,
      "metadata": {
        "colab": {
          "base_uri": "https://localhost:8080/"
        },
        "id": "Ob2Xz2lrklju",
        "outputId": "c4ace79f-afeb-45e6-9e74-598f0542fee8"
      },
      "outputs": [
        {
          "name": "stdout",
          "output_type": "stream",
          "text": [
            "Series([], Name: average_rating, dtype: float64)\n"
          ]
        }
      ],
      "source": [
        "print(english['average_rating'])"
      ]
    },
    {
      "cell_type": "code",
      "execution_count": 28,
      "metadata": {
        "colab": {
          "base_uri": "https://localhost:8080/"
        },
        "id": "94JdOszSklno",
        "outputId": "e6413318-f33f-441d-a30c-79c090df1075"
      },
      "outputs": [
        {
          "name": "stdout",
          "output_type": "stream",
          "text": [
            "0          eng\n",
            "1          eng\n",
            "2          eng\n",
            "3          eng\n",
            "4          eng\n",
            "          ... \n",
            "7027426    swe\n",
            "7027427    eng\n",
            "7027428    por\n",
            "7027429       \n",
            "7027430    eng\n",
            "Name: language, Length: 7027431, dtype: object\n"
          ]
        }
      ],
      "source": [
        "print(df1['language'])"
      ]
    }
  ],
  "metadata": {
    "colab": {
      "provenance": []
    },
    "kernelspec": {
      "display_name": "Python 3 (ipykernel)",
      "language": "python",
      "name": "python3"
    },
    "language_info": {
      "codemirror_mode": {
        "name": "ipython",
        "version": 3
      },
      "file_extension": ".py",
      "mimetype": "text/x-python",
      "name": "python",
      "nbconvert_exporter": "python",
      "pygments_lexer": "ipython3",
      "version": "3.11.4"
    }
  },
  "nbformat": 4,
  "nbformat_minor": 0
}
